{
  "nbformat": 4,
  "nbformat_minor": 0,
  "metadata": {
    "colab": {
      "name": "Coding for the Earth Key Template.ipynb",
      "provenance": [],
      "collapsed_sections": []
    },
    "kernelspec": {
      "name": "python3",
      "display_name": "Python 3"
    }
  },
  "cells": [
    {
      "cell_type": "markdown",
      "metadata": {
        "id": "Y8uJSW5IrYPn"
      },
      "source": [
        "# Introduction to Climate Data Visualizations in Python\n",
        "*Developed by Computing Fellows Chianna and Bryn for the Climate & History course at Barnard College. Adapted by postbacc fellow Zoë.*\n",
        "\n",
        "###What are Data Visualizations?\n",
        "Data visualizations are graphic representations of data. When datasets are very complicated or have an overwhelming amount of data in them, a data visualization can act as both an exploratory tool (to make trends in the data legible) and a communication tool (to communicate something about the data). Data visualizations are important for accessibility: a good data visualization can be more widely understood than just looking at an excel sheet for example.\n",
        "\n",
        "Data communication plays an important role in the way we interpret climate data and understand climate change, so visualizations of climate data are particularly important.\n",
        "\n",
        "###Why Use Programming for Data Visualizations?\n",
        "Scientific research datasets are all slightly different, and need to be handled, cleaned, and analyzed accordingly.\n",
        "\n",
        "Coding allows you to customize your data analysis to fit individual datasets and research goals, more effetcively than any off-the-shelf software package.\n",
        "\n",
        "Python, MATLAB, and R are the most commonly used programming languages in most scientific research. Today we will be learning the basics of Python, and building up to eventually create data visualizations of our own using Altair, a comprehensive data visualization library. \n",
        "\n",
        "\n",
        "---\n",
        "\n"
      ]
    },
    {
      "cell_type": "markdown",
      "metadata": {
        "id": "qZHSM4k5jg6S"
      },
      "source": [
        "## Basics of Python"
      ]
    },
    {
      "cell_type": "markdown",
      "metadata": {
        "id": "n2AGf4JKBt-0"
      },
      "source": [
        "**Print** statements will \"print\" whatever is inside the parentheses to the console."
      ]
    },
    {
      "cell_type": "code",
      "metadata": {
        "id": "ZATZTqkbjg6S",
        "colab": {
          "base_uri": "https://localhost:8080/"
        },
        "outputId": "93dae640-623d-4063-f6de-b99842702f65"
      },
      "source": [
        "# Print \"Hello!\"\n"
      ],
      "execution_count": null,
      "outputs": [
        {
          "output_type": "stream",
          "name": "stdout",
          "text": [
            "Hello!\n"
          ]
        }
      ]
    },
    {
      "cell_type": "markdown",
      "metadata": {
        "id": "47rkuoQIB-NB"
      },
      "source": [
        "Above, we printed a string. Strings are sequences of characters or words bounded by quotation marks.\n",
        "\n",
        "We can save strings (or any other data type) into variables, using the \"=\" sign. "
      ]
    },
    {
      "cell_type": "code",
      "metadata": {
        "id": "a_xLtijsjg6W",
        "colab": {
          "base_uri": "https://localhost:8080/"
        },
        "outputId": "20db0812-fc2f-4ffb-e7eb-713c6fdbfa7f"
      },
      "source": [
        "# We assign the string \"Hello\" to a variable\n",
        "\n",
        "\n",
        "# Print our variable\n"
      ],
      "execution_count": null,
      "outputs": [
        {
          "output_type": "stream",
          "name": "stdout",
          "text": [
            "Hello\n"
          ]
        }
      ]
    },
    {
      "cell_type": "markdown",
      "metadata": {
        "id": "vsrkJGzvDTic"
      },
      "source": [
        "Since we're working with quantitative data, numbers and arithemtic operations are also important. We can save numbers in variables just as we did with the string above. "
      ]
    },
    {
      "cell_type": "code",
      "metadata": {
        "colab": {
          "base_uri": "https://localhost:8080/"
        },
        "id": "JlJddBneDKVM",
        "outputId": "1b61a4b2-4b18-4989-d361-3270be20bbaf"
      },
      "source": [
        "#Assign numeric values to variables a and b \n",
        "\n",
        "\n",
        "#Perform some simple arithmetic\n",
        "\n"
      ],
      "execution_count": null,
      "outputs": [
        {
          "output_type": "stream",
          "name": "stdout",
          "text": [
            "7\n",
            "3\n"
          ]
        }
      ]
    },
    {
      "cell_type": "code",
      "metadata": {
        "id": "N48HLIhjjg6Y",
        "colab": {
          "base_uri": "https://localhost:8080/"
        },
        "outputId": "7ad63f94-aca4-4c99-c461-eff5b74cfdf4"
      },
      "source": [
        "#Some more complicated arithemtic..\n"
      ],
      "execution_count": null,
      "outputs": [
        {
          "output_type": "stream",
          "name": "stdout",
          "text": [
            "A: 2.0\n",
            "B: 4.0\n",
            "C: 7\n",
            "D: 10\n"
          ]
        }
      ]
    },
    {
      "cell_type": "markdown",
      "metadata": {
        "id": "yExoWFKjjg6b"
      },
      "source": [
        "#### Functions\n",
        "Functions invoke prewritten code behind the scenes to perform a given operation. We can \"pass\" data (called the `argument`) into the function in the parentheses of the function.\n",
        "\n",
        "We can make our own functions, use Python's built-in functions, or import extra functions from a library.\n",
        "\n",
        "Consider our above example using print.  `print()` is a function, where the thing we're printing (`\"Hello\"`, for example) is the argument."
      ]
    },
    {
      "cell_type": "code",
      "metadata": {
        "colab": {
          "base_uri": "https://localhost:8080/"
        },
        "id": "G_47BVZwjg6c",
        "outputId": "cad2fbe5-6a5c-44ae-ae39-07656a5136aa"
      },
      "source": [
        "# Let's write a short function that adds one to our argument\n",
        "\n",
        "\n",
        "# Print the output\n",
        "\n",
        "\n",
        "# What number will print out?\n"
      ],
      "execution_count": null,
      "outputs": [
        {
          "output_type": "stream",
          "name": "stdout",
          "text": [
            "3\n",
            "101\n"
          ]
        }
      ]
    },
    {
      "cell_type": "markdown",
      "metadata": {
        "id": "d6grZjhrjg6e"
      },
      "source": [
        "#### Lists, dictionaries, and for-loops\n",
        "These data structures are the heart are the heart of programming! First we will take a look at lists. \n",
        "\n",
        "Lists are lists of elements enclosed by brackets and separated by commas."
      ]
    },
    {
      "cell_type": "code",
      "metadata": {
        "colab": {
          "base_uri": "https://localhost:8080/"
        },
        "id": "0Tz_WAkEjg6e",
        "outputId": "3ab9c548-f38c-4da6-863f-2048b1a58947"
      },
      "source": [
        "# Create a list\n",
        "\n",
        "\n",
        "# Print our list\n"
      ],
      "execution_count": null,
      "outputs": [
        {
          "output_type": "stream",
          "name": "stdout",
          "text": [
            "Our first list: \n",
            "[3, 10, 500]\n"
          ]
        }
      ]
    },
    {
      "cell_type": "markdown",
      "source": [
        "We'll introduce a few functions you may want to use on a list.  Learning to work with large datasets takes some work, but understanding data types like lists and arrays can come in handy when you try to clean data before visualizing it."
      ],
      "metadata": {
        "id": "fq0pE6LgzNfd"
      }
    },
    {
      "cell_type": "code",
      "source": [
        "# Get the length of a list\n",
        "\n",
        "# \"Append\" or add an item to a list\n",
        "\n",
        "# Remove an item from a list\n",
        "\n",
        "# Add two lists\n"
      ],
      "metadata": {
        "colab": {
          "base_uri": "https://localhost:8080/"
        },
        "id": "V5C3WjGSzSUD",
        "outputId": "9bd529b8-6d10-4ab5-ce56-8ae0c50ed3ae"
      },
      "execution_count": null,
      "outputs": [
        {
          "output_type": "stream",
          "name": "stdout",
          "text": [
            "Our list after adding a new element:\n",
            "[3, 10, 500, 6]\n",
            "Our list after removing an element:\n",
            "[3, 500, 6]\n",
            "Both lists added together: \n",
            "[3, 500, 6, 4, 9, 10]\n"
          ]
        }
      ]
    },
    {
      "cell_type": "markdown",
      "metadata": {
        "id": "oM9SCJaVJXOd"
      },
      "source": [
        "If we want to access a specific elemtn of a list, we do that by \"indexing.\" Every element of a list has an index, and to identify that element, we use its index. In Python (and many other programming languages), indexing starts at 0, so the first item is the 0th.\n",
        "\n",
        "```\n",
        "list = [\"apple\", \"banana\", \"orange\" ]\n",
        "           0        1         2\n",
        "```\n",
        "The index of apple is 0. The index of orange is 2. Let's say we want to change the third item (the item with index 2). \n",
        "\n",
        "\n",
        "```\n",
        "list[2] = \"grape\"\n",
        "```\n",
        "\n",
        "Now our list looks like this:\n",
        "```\n",
        "list = [\"apple\", \"banana\", \"grape\" ]\n",
        "           0        1         2\n",
        "```\n",
        "\n",
        "\n"
      ]
    },
    {
      "cell_type": "markdown",
      "metadata": {
        "id": "80SD83MnJFRZ"
      },
      "source": [
        "When we want to perform an operation on every element of a list, we *iterate* through the list. We can do this using a *for loop*."
      ]
    },
    {
      "cell_type": "code",
      "metadata": {
        "colab": {
          "base_uri": "https://localhost:8080/"
        },
        "id": "zYnDxXR9jg6g",
        "outputId": "d281a920-8fde-4885-df60-86ad173c5dbe"
      },
      "source": [
        "# Write a simple for loop\n"
      ],
      "execution_count": null,
      "outputs": [
        {
          "output_type": "stream",
          "name": "stdout",
          "text": [
            "3\n",
            "500\n",
            "6\n"
          ]
        }
      ]
    },
    {
      "cell_type": "code",
      "metadata": {
        "colab": {
          "base_uri": "https://localhost:8080/"
        },
        "id": "05_6IVvBjg6i",
        "outputId": "2b71b0b5-9417-4ee4-e6fd-f04be7374093"
      },
      "source": [
        "# Now, write a for loop that iterates over index\n"
      ],
      "execution_count": null,
      "outputs": [
        {
          "output_type": "stream",
          "name": "stdout",
          "text": [
            "[6, 1000, 12]\n"
          ]
        }
      ]
    },
    {
      "cell_type": "markdown",
      "metadata": {
        "id": "h_bB7iF6tNjM"
      },
      "source": [
        "# Making Data Visualizations\n",
        "Now, let's go ahead and work with some data visualizations.\n",
        "\n",
        "## Import data\n",
        "First, let's import our data.\n",
        "\n",
        "The [data](https://www.ncdc.noaa.gov/cag/global/time-series/globe/land_ocean/ytd/12/1880-2019) we are using is climate change data from the NOAA (National Oceanic and Atmospheric Administration). Researchers at NOAA collected annual global temperatures since the year 1880, and then identified anomalies in the annual global temperature data for years between 1901-2000. The baseline of this anomaly plot will be the average temperature of the years 1901-2000. \n",
        "\n",
        "To import our dataset in a form that works with Python, we will use a built-in package of functions for data analysis called Pandas.  Using Pandas, we'll put the data in a DataFrame, which is how Pandas represents data tables."
      ]
    },
    {
      "cell_type": "markdown",
      "source": [
        "First, let's import Pandas."
      ],
      "metadata": {
        "id": "fVk6UA9Hod_K"
      }
    },
    {
      "cell_type": "code",
      "source": [
        "# Import Pandas and give it a nickname\n"
      ],
      "metadata": {
        "id": "JuxQCr4toiAA"
      },
      "execution_count": null,
      "outputs": []
    },
    {
      "cell_type": "markdown",
      "source": [
        "Now, read in the data from our online source.  We'll work with the data in JSON form."
      ],
      "metadata": {
        "id": "t-mdeofYom5o"
      }
    },
    {
      "cell_type": "code",
      "metadata": {
        "id": "6mgZc0hptXR4",
        "colab": {
          "base_uri": "https://localhost:8080/",
          "height": 204
        },
        "outputId": "036a604c-3a4e-46c2-cb48-3192d980e488"
      },
      "source": [
        "# Read in data\n",
        "\n",
        "# Define data source\n",
        "data_url = \"https://www.ncdc.noaa.gov/cag/global/time-series/globe/land_ocean/ytd/12/1880-2019/data.json\"\n",
        "\n",
        "# Read JSON into a Pandas dataframe\n",
        "\n",
        "\n",
        "# Display first few rows of DataFrame\n"
      ],
      "execution_count": null,
      "outputs": [
        {
          "output_type": "execute_result",
          "data": {
            "text/plain": [
              "                                                   description  data\n",
              "title        Global Land and Ocean Temperature Anomalies, J...   NaN\n",
              "units                                          Degrees Celsius   NaN\n",
              "base_period                                          1901-2000   NaN\n",
              "missing                                                   -999   NaN\n",
              "1880                                                       NaN -0.12"
            ],
            "text/html": [
              "\n",
              "  <div id=\"df-85334d5f-27a6-46db-85f5-08251d0dfda6\">\n",
              "    <div class=\"colab-df-container\">\n",
              "      <div>\n",
              "<style scoped>\n",
              "    .dataframe tbody tr th:only-of-type {\n",
              "        vertical-align: middle;\n",
              "    }\n",
              "\n",
              "    .dataframe tbody tr th {\n",
              "        vertical-align: top;\n",
              "    }\n",
              "\n",
              "    .dataframe thead th {\n",
              "        text-align: right;\n",
              "    }\n",
              "</style>\n",
              "<table border=\"1\" class=\"dataframe\">\n",
              "  <thead>\n",
              "    <tr style=\"text-align: right;\">\n",
              "      <th></th>\n",
              "      <th>description</th>\n",
              "      <th>data</th>\n",
              "    </tr>\n",
              "  </thead>\n",
              "  <tbody>\n",
              "    <tr>\n",
              "      <th>title</th>\n",
              "      <td>Global Land and Ocean Temperature Anomalies, J...</td>\n",
              "      <td>NaN</td>\n",
              "    </tr>\n",
              "    <tr>\n",
              "      <th>units</th>\n",
              "      <td>Degrees Celsius</td>\n",
              "      <td>NaN</td>\n",
              "    </tr>\n",
              "    <tr>\n",
              "      <th>base_period</th>\n",
              "      <td>1901-2000</td>\n",
              "      <td>NaN</td>\n",
              "    </tr>\n",
              "    <tr>\n",
              "      <th>missing</th>\n",
              "      <td>-999</td>\n",
              "      <td>NaN</td>\n",
              "    </tr>\n",
              "    <tr>\n",
              "      <th>1880</th>\n",
              "      <td>NaN</td>\n",
              "      <td>-0.12</td>\n",
              "    </tr>\n",
              "  </tbody>\n",
              "</table>\n",
              "</div>\n",
              "      <button class=\"colab-df-convert\" onclick=\"convertToInteractive('df-85334d5f-27a6-46db-85f5-08251d0dfda6')\"\n",
              "              title=\"Convert this dataframe to an interactive table.\"\n",
              "              style=\"display:none;\">\n",
              "        \n",
              "  <svg xmlns=\"http://www.w3.org/2000/svg\" height=\"24px\"viewBox=\"0 0 24 24\"\n",
              "       width=\"24px\">\n",
              "    <path d=\"M0 0h24v24H0V0z\" fill=\"none\"/>\n",
              "    <path d=\"M18.56 5.44l.94 2.06.94-2.06 2.06-.94-2.06-.94-.94-2.06-.94 2.06-2.06.94zm-11 1L8.5 8.5l.94-2.06 2.06-.94-2.06-.94L8.5 2.5l-.94 2.06-2.06.94zm10 10l.94 2.06.94-2.06 2.06-.94-2.06-.94-.94-2.06-.94 2.06-2.06.94z\"/><path d=\"M17.41 7.96l-1.37-1.37c-.4-.4-.92-.59-1.43-.59-.52 0-1.04.2-1.43.59L10.3 9.45l-7.72 7.72c-.78.78-.78 2.05 0 2.83L4 21.41c.39.39.9.59 1.41.59.51 0 1.02-.2 1.41-.59l7.78-7.78 2.81-2.81c.8-.78.8-2.07 0-2.86zM5.41 20L4 18.59l7.72-7.72 1.47 1.35L5.41 20z\"/>\n",
              "  </svg>\n",
              "      </button>\n",
              "      \n",
              "  <style>\n",
              "    .colab-df-container {\n",
              "      display:flex;\n",
              "      flex-wrap:wrap;\n",
              "      gap: 12px;\n",
              "    }\n",
              "\n",
              "    .colab-df-convert {\n",
              "      background-color: #E8F0FE;\n",
              "      border: none;\n",
              "      border-radius: 50%;\n",
              "      cursor: pointer;\n",
              "      display: none;\n",
              "      fill: #1967D2;\n",
              "      height: 32px;\n",
              "      padding: 0 0 0 0;\n",
              "      width: 32px;\n",
              "    }\n",
              "\n",
              "    .colab-df-convert:hover {\n",
              "      background-color: #E2EBFA;\n",
              "      box-shadow: 0px 1px 2px rgba(60, 64, 67, 0.3), 0px 1px 3px 1px rgba(60, 64, 67, 0.15);\n",
              "      fill: #174EA6;\n",
              "    }\n",
              "\n",
              "    [theme=dark] .colab-df-convert {\n",
              "      background-color: #3B4455;\n",
              "      fill: #D2E3FC;\n",
              "    }\n",
              "\n",
              "    [theme=dark] .colab-df-convert:hover {\n",
              "      background-color: #434B5C;\n",
              "      box-shadow: 0px 1px 3px 1px rgba(0, 0, 0, 0.15);\n",
              "      filter: drop-shadow(0px 1px 2px rgba(0, 0, 0, 0.3));\n",
              "      fill: #FFFFFF;\n",
              "    }\n",
              "  </style>\n",
              "\n",
              "      <script>\n",
              "        const buttonEl =\n",
              "          document.querySelector('#df-85334d5f-27a6-46db-85f5-08251d0dfda6 button.colab-df-convert');\n",
              "        buttonEl.style.display =\n",
              "          google.colab.kernel.accessAllowed ? 'block' : 'none';\n",
              "\n",
              "        async function convertToInteractive(key) {\n",
              "          const element = document.querySelector('#df-85334d5f-27a6-46db-85f5-08251d0dfda6');\n",
              "          const dataTable =\n",
              "            await google.colab.kernel.invokeFunction('convertToInteractive',\n",
              "                                                     [key], {});\n",
              "          if (!dataTable) return;\n",
              "\n",
              "          const docLinkHtml = 'Like what you see? Visit the ' +\n",
              "            '<a target=\"_blank\" href=https://colab.research.google.com/notebooks/data_table.ipynb>data table notebook</a>'\n",
              "            + ' to learn more about interactive tables.';\n",
              "          element.innerHTML = '';\n",
              "          dataTable['output_type'] = 'display_data';\n",
              "          await google.colab.output.renderOutput(dataTable, element);\n",
              "          const docLink = document.createElement('div');\n",
              "          docLink.innerHTML = docLinkHtml;\n",
              "          element.appendChild(docLink);\n",
              "        }\n",
              "      </script>\n",
              "    </div>\n",
              "  </div>\n",
              "  "
            ]
          },
          "metadata": {},
          "execution_count": 16
        }
      ]
    },
    {
      "cell_type": "markdown",
      "source": [
        "The first four rows don't seem to have useful data for us.  Let's do a little data cleaning and leave them out for now."
      ],
      "metadata": {
        "id": "BQKDwEcRqm8M"
      }
    },
    {
      "cell_type": "code",
      "source": [
        "# Skip the first four rows and rename the column that holds temperature\n",
        "\n",
        "\n",
        "# Display first few rows of DataFrame\n"
      ],
      "metadata": {
        "colab": {
          "base_uri": "https://localhost:8080/",
          "height": 204
        },
        "id": "16Vvynpfg6QP",
        "outputId": "78929753-4de8-4165-d856-ade66fc95184"
      },
      "execution_count": null,
      "outputs": [
        {
          "output_type": "execute_result",
          "data": {
            "text/plain": [
              "     description  Temperature (°C)\n",
              "1899         NaN             -0.16\n",
              "1900         NaN             -0.08\n",
              "1901         NaN             -0.16\n",
              "1902         NaN             -0.26\n",
              "1903         NaN             -0.38"
            ],
            "text/html": [
              "\n",
              "  <div id=\"df-3fc957a4-41e1-4f7e-97b5-584e0eadf7e7\">\n",
              "    <div class=\"colab-df-container\">\n",
              "      <div>\n",
              "<style scoped>\n",
              "    .dataframe tbody tr th:only-of-type {\n",
              "        vertical-align: middle;\n",
              "    }\n",
              "\n",
              "    .dataframe tbody tr th {\n",
              "        vertical-align: top;\n",
              "    }\n",
              "\n",
              "    .dataframe thead th {\n",
              "        text-align: right;\n",
              "    }\n",
              "</style>\n",
              "<table border=\"1\" class=\"dataframe\">\n",
              "  <thead>\n",
              "    <tr style=\"text-align: right;\">\n",
              "      <th></th>\n",
              "      <th>description</th>\n",
              "      <th>Temperature (°C)</th>\n",
              "    </tr>\n",
              "  </thead>\n",
              "  <tbody>\n",
              "    <tr>\n",
              "      <th>1899</th>\n",
              "      <td>NaN</td>\n",
              "      <td>-0.16</td>\n",
              "    </tr>\n",
              "    <tr>\n",
              "      <th>1900</th>\n",
              "      <td>NaN</td>\n",
              "      <td>-0.08</td>\n",
              "    </tr>\n",
              "    <tr>\n",
              "      <th>1901</th>\n",
              "      <td>NaN</td>\n",
              "      <td>-0.16</td>\n",
              "    </tr>\n",
              "    <tr>\n",
              "      <th>1902</th>\n",
              "      <td>NaN</td>\n",
              "      <td>-0.26</td>\n",
              "    </tr>\n",
              "    <tr>\n",
              "      <th>1903</th>\n",
              "      <td>NaN</td>\n",
              "      <td>-0.38</td>\n",
              "    </tr>\n",
              "  </tbody>\n",
              "</table>\n",
              "</div>\n",
              "      <button class=\"colab-df-convert\" onclick=\"convertToInteractive('df-3fc957a4-41e1-4f7e-97b5-584e0eadf7e7')\"\n",
              "              title=\"Convert this dataframe to an interactive table.\"\n",
              "              style=\"display:none;\">\n",
              "        \n",
              "  <svg xmlns=\"http://www.w3.org/2000/svg\" height=\"24px\"viewBox=\"0 0 24 24\"\n",
              "       width=\"24px\">\n",
              "    <path d=\"M0 0h24v24H0V0z\" fill=\"none\"/>\n",
              "    <path d=\"M18.56 5.44l.94 2.06.94-2.06 2.06-.94-2.06-.94-.94-2.06-.94 2.06-2.06.94zm-11 1L8.5 8.5l.94-2.06 2.06-.94-2.06-.94L8.5 2.5l-.94 2.06-2.06.94zm10 10l.94 2.06.94-2.06 2.06-.94-2.06-.94-.94-2.06-.94 2.06-2.06.94z\"/><path d=\"M17.41 7.96l-1.37-1.37c-.4-.4-.92-.59-1.43-.59-.52 0-1.04.2-1.43.59L10.3 9.45l-7.72 7.72c-.78.78-.78 2.05 0 2.83L4 21.41c.39.39.9.59 1.41.59.51 0 1.02-.2 1.41-.59l7.78-7.78 2.81-2.81c.8-.78.8-2.07 0-2.86zM5.41 20L4 18.59l7.72-7.72 1.47 1.35L5.41 20z\"/>\n",
              "  </svg>\n",
              "      </button>\n",
              "      \n",
              "  <style>\n",
              "    .colab-df-container {\n",
              "      display:flex;\n",
              "      flex-wrap:wrap;\n",
              "      gap: 12px;\n",
              "    }\n",
              "\n",
              "    .colab-df-convert {\n",
              "      background-color: #E8F0FE;\n",
              "      border: none;\n",
              "      border-radius: 50%;\n",
              "      cursor: pointer;\n",
              "      display: none;\n",
              "      fill: #1967D2;\n",
              "      height: 32px;\n",
              "      padding: 0 0 0 0;\n",
              "      width: 32px;\n",
              "    }\n",
              "\n",
              "    .colab-df-convert:hover {\n",
              "      background-color: #E2EBFA;\n",
              "      box-shadow: 0px 1px 2px rgba(60, 64, 67, 0.3), 0px 1px 3px 1px rgba(60, 64, 67, 0.15);\n",
              "      fill: #174EA6;\n",
              "    }\n",
              "\n",
              "    [theme=dark] .colab-df-convert {\n",
              "      background-color: #3B4455;\n",
              "      fill: #D2E3FC;\n",
              "    }\n",
              "\n",
              "    [theme=dark] .colab-df-convert:hover {\n",
              "      background-color: #434B5C;\n",
              "      box-shadow: 0px 1px 3px 1px rgba(0, 0, 0, 0.15);\n",
              "      filter: drop-shadow(0px 1px 2px rgba(0, 0, 0, 0.3));\n",
              "      fill: #FFFFFF;\n",
              "    }\n",
              "  </style>\n",
              "\n",
              "      <script>\n",
              "        const buttonEl =\n",
              "          document.querySelector('#df-3fc957a4-41e1-4f7e-97b5-584e0eadf7e7 button.colab-df-convert');\n",
              "        buttonEl.style.display =\n",
              "          google.colab.kernel.accessAllowed ? 'block' : 'none';\n",
              "\n",
              "        async function convertToInteractive(key) {\n",
              "          const element = document.querySelector('#df-3fc957a4-41e1-4f7e-97b5-584e0eadf7e7');\n",
              "          const dataTable =\n",
              "            await google.colab.kernel.invokeFunction('convertToInteractive',\n",
              "                                                     [key], {});\n",
              "          if (!dataTable) return;\n",
              "\n",
              "          const docLinkHtml = 'Like what you see? Visit the ' +\n",
              "            '<a target=\"_blank\" href=https://colab.research.google.com/notebooks/data_table.ipynb>data table notebook</a>'\n",
              "            + ' to learn more about interactive tables.';\n",
              "          element.innerHTML = '';\n",
              "          dataTable['output_type'] = 'display_data';\n",
              "          await google.colab.output.renderOutput(dataTable, element);\n",
              "          const docLink = document.createElement('div');\n",
              "          docLink.innerHTML = docLinkHtml;\n",
              "          element.appendChild(docLink);\n",
              "        }\n",
              "      </script>\n",
              "    </div>\n",
              "  </div>\n",
              "  "
            ]
          },
          "metadata": {},
          "execution_count": 23
        }
      ]
    },
    {
      "cell_type": "markdown",
      "source": [
        "We can ask Pandas to give us a summary of the data by writing `dataFrame.describe()`.  This will give us the total count and mean.  Let's also go ahead and do some more data-cleaning."
      ],
      "metadata": {
        "id": "H-q6WrQJsabV"
      }
    },
    {
      "cell_type": "code",
      "metadata": {
        "id": "deH06x9fNYDh",
        "colab": {
          "base_uri": "https://localhost:8080/",
          "height": 258
        },
        "outputId": "73f1a8ae-31cb-4a58-9650-060dd658b7a6"
      },
      "source": [
        "# Display information about the DataFrame\n",
        "\n",
        "\n",
        "# Let's also convert our index column to a column called \"Year\" and drop the empty description column\n"
      ],
      "execution_count": null,
      "outputs": [
        {
          "output_type": "stream",
          "name": "stderr",
          "text": [
            "/usr/local/lib/python3.7/dist-packages/ipykernel_launcher.py:6: FutureWarning: In a future version of pandas all arguments of DataFrame.drop except for the argument 'labels' will be keyword-only\n",
            "  \n"
          ]
        },
        {
          "output_type": "execute_result",
          "data": {
            "text/plain": [
              "      Temperature (°C)  Year\n",
              "1899             -0.16  1899\n",
              "1900             -0.08  1900\n",
              "1901             -0.16  1901\n",
              "1902             -0.26  1902\n",
              "1903             -0.38  1903"
            ],
            "text/html": [
              "\n",
              "  <div id=\"df-cb3a8f00-5bd1-409b-8528-203efeb308a0\">\n",
              "    <div class=\"colab-df-container\">\n",
              "      <div>\n",
              "<style scoped>\n",
              "    .dataframe tbody tr th:only-of-type {\n",
              "        vertical-align: middle;\n",
              "    }\n",
              "\n",
              "    .dataframe tbody tr th {\n",
              "        vertical-align: top;\n",
              "    }\n",
              "\n",
              "    .dataframe thead th {\n",
              "        text-align: right;\n",
              "    }\n",
              "</style>\n",
              "<table border=\"1\" class=\"dataframe\">\n",
              "  <thead>\n",
              "    <tr style=\"text-align: right;\">\n",
              "      <th></th>\n",
              "      <th>Temperature (°C)</th>\n",
              "      <th>Year</th>\n",
              "    </tr>\n",
              "  </thead>\n",
              "  <tbody>\n",
              "    <tr>\n",
              "      <th>1899</th>\n",
              "      <td>-0.16</td>\n",
              "      <td>1899</td>\n",
              "    </tr>\n",
              "    <tr>\n",
              "      <th>1900</th>\n",
              "      <td>-0.08</td>\n",
              "      <td>1900</td>\n",
              "    </tr>\n",
              "    <tr>\n",
              "      <th>1901</th>\n",
              "      <td>-0.16</td>\n",
              "      <td>1901</td>\n",
              "    </tr>\n",
              "    <tr>\n",
              "      <th>1902</th>\n",
              "      <td>-0.26</td>\n",
              "      <td>1902</td>\n",
              "    </tr>\n",
              "    <tr>\n",
              "      <th>1903</th>\n",
              "      <td>-0.38</td>\n",
              "      <td>1903</td>\n",
              "    </tr>\n",
              "  </tbody>\n",
              "</table>\n",
              "</div>\n",
              "      <button class=\"colab-df-convert\" onclick=\"convertToInteractive('df-cb3a8f00-5bd1-409b-8528-203efeb308a0')\"\n",
              "              title=\"Convert this dataframe to an interactive table.\"\n",
              "              style=\"display:none;\">\n",
              "        \n",
              "  <svg xmlns=\"http://www.w3.org/2000/svg\" height=\"24px\"viewBox=\"0 0 24 24\"\n",
              "       width=\"24px\">\n",
              "    <path d=\"M0 0h24v24H0V0z\" fill=\"none\"/>\n",
              "    <path d=\"M18.56 5.44l.94 2.06.94-2.06 2.06-.94-2.06-.94-.94-2.06-.94 2.06-2.06.94zm-11 1L8.5 8.5l.94-2.06 2.06-.94-2.06-.94L8.5 2.5l-.94 2.06-2.06.94zm10 10l.94 2.06.94-2.06 2.06-.94-2.06-.94-.94-2.06-.94 2.06-2.06.94z\"/><path d=\"M17.41 7.96l-1.37-1.37c-.4-.4-.92-.59-1.43-.59-.52 0-1.04.2-1.43.59L10.3 9.45l-7.72 7.72c-.78.78-.78 2.05 0 2.83L4 21.41c.39.39.9.59 1.41.59.51 0 1.02-.2 1.41-.59l7.78-7.78 2.81-2.81c.8-.78.8-2.07 0-2.86zM5.41 20L4 18.59l7.72-7.72 1.47 1.35L5.41 20z\"/>\n",
              "  </svg>\n",
              "      </button>\n",
              "      \n",
              "  <style>\n",
              "    .colab-df-container {\n",
              "      display:flex;\n",
              "      flex-wrap:wrap;\n",
              "      gap: 12px;\n",
              "    }\n",
              "\n",
              "    .colab-df-convert {\n",
              "      background-color: #E8F0FE;\n",
              "      border: none;\n",
              "      border-radius: 50%;\n",
              "      cursor: pointer;\n",
              "      display: none;\n",
              "      fill: #1967D2;\n",
              "      height: 32px;\n",
              "      padding: 0 0 0 0;\n",
              "      width: 32px;\n",
              "    }\n",
              "\n",
              "    .colab-df-convert:hover {\n",
              "      background-color: #E2EBFA;\n",
              "      box-shadow: 0px 1px 2px rgba(60, 64, 67, 0.3), 0px 1px 3px 1px rgba(60, 64, 67, 0.15);\n",
              "      fill: #174EA6;\n",
              "    }\n",
              "\n",
              "    [theme=dark] .colab-df-convert {\n",
              "      background-color: #3B4455;\n",
              "      fill: #D2E3FC;\n",
              "    }\n",
              "\n",
              "    [theme=dark] .colab-df-convert:hover {\n",
              "      background-color: #434B5C;\n",
              "      box-shadow: 0px 1px 3px 1px rgba(0, 0, 0, 0.15);\n",
              "      filter: drop-shadow(0px 1px 2px rgba(0, 0, 0, 0.3));\n",
              "      fill: #FFFFFF;\n",
              "    }\n",
              "  </style>\n",
              "\n",
              "      <script>\n",
              "        const buttonEl =\n",
              "          document.querySelector('#df-cb3a8f00-5bd1-409b-8528-203efeb308a0 button.colab-df-convert');\n",
              "        buttonEl.style.display =\n",
              "          google.colab.kernel.accessAllowed ? 'block' : 'none';\n",
              "\n",
              "        async function convertToInteractive(key) {\n",
              "          const element = document.querySelector('#df-cb3a8f00-5bd1-409b-8528-203efeb308a0');\n",
              "          const dataTable =\n",
              "            await google.colab.kernel.invokeFunction('convertToInteractive',\n",
              "                                                     [key], {});\n",
              "          if (!dataTable) return;\n",
              "\n",
              "          const docLinkHtml = 'Like what you see? Visit the ' +\n",
              "            '<a target=\"_blank\" href=https://colab.research.google.com/notebooks/data_table.ipynb>data table notebook</a>'\n",
              "            + ' to learn more about interactive tables.';\n",
              "          element.innerHTML = '';\n",
              "          dataTable['output_type'] = 'display_data';\n",
              "          await google.colab.output.renderOutput(dataTable, element);\n",
              "          const docLink = document.createElement('div');\n",
              "          docLink.innerHTML = docLinkHtml;\n",
              "          element.appendChild(docLink);\n",
              "        }\n",
              "      </script>\n",
              "    </div>\n",
              "  </div>\n",
              "  "
            ]
          },
          "metadata": {},
          "execution_count": 27
        }
      ]
    },
    {
      "cell_type": "markdown",
      "source": [
        "## Let's start visualizing!\n",
        "Today we're going to be using a data visualization library called Altair.  Compared to other plotting libraries for Python, like matplotlib, Altair is a comprehensive visualization grammar (like ggplot2)—it's a little bit \"smarter\" making it a good choice for producing clean data visualizations!"
      ],
      "metadata": {
        "id": "ifTKCRCitfft"
      }
    },
    {
      "cell_type": "markdown",
      "metadata": {
        "id": "xE9j7BO4xpIu"
      },
      "source": [
        "It's okay if the syntax we use for this part of the workshop doesn't click immediately.  One of the important skills when you're learning to code is to learn how to search for resources!\n",
        "\n",
        "### Make a line plot\n",
        "First, let's make a line plot of the data with Year on the x-axis and Temperature on the y-axis.\n",
        "\n",
        "The Chart() function of the altair package uses our Pandas DataFrame to make a graph object: \n",
        "```\n",
        "alt.Chart(df)\n",
        "```\n",
        "The mark_line() function specifies the type of graph to be created as a line graph: \n",
        "```\n",
        "alt.Chart(df).mark_line()\n",
        "```\n",
        "The encode() function identifies which column of our DataFrame holds data for the x axis, and which holds data for the y axis\n",
        "```\n",
        " alt.Chart(df).mark_line().encode(\n",
        "    x='Year:O',\n",
        "    y='Temperature (°C)'\n",
        ")\n",
        "```\n",
        "The properties() function allows us to assign a title and the size of the graph\n",
        "```\n",
        "alt.Chart(df).mark_line().encode(\n",
        "    x='Year:O',\n",
        "    y='Temperature (°C)'\n",
        ").properties(\n",
        "    title='Global Temperature Anomaly (1880-2020)',\n",
        "    width = 700\n",
        "    )\n",
        "```\n",
        "Let's try making a line plot with our data!"
      ]
    },
    {
      "cell_type": "markdown",
      "source": [
        "First, just as we did with Pandas earlier, we need to import Altair."
      ],
      "metadata": {
        "id": "puiU6i3uvLuI"
      }
    },
    {
      "cell_type": "code",
      "metadata": {
        "id": "SmirqdfcxrSm"
      },
      "source": [
        "# Import Altair\n"
      ],
      "execution_count": null,
      "outputs": []
    },
    {
      "cell_type": "markdown",
      "source": [
        "Now, plot our data using Altair's `.Chart()`"
      ],
      "metadata": {
        "id": "IS6jOF3zvS-C"
      }
    },
    {
      "cell_type": "code",
      "source": [
        "# Create a line chart where x is year and y is temperature\n"
      ],
      "metadata": {
        "colab": {
          "base_uri": "https://localhost:8080/",
          "height": 401
        },
        "id": "WkIQNNo1vZkV",
        "outputId": "1649cc4f-e0df-4848-ce1e-5b7d738954f3"
      },
      "execution_count": null,
      "outputs": [
        {
          "output_type": "execute_result",
          "data": {
            "text/html": [
              "\n",
              "<div id=\"altair-viz-255f045ea2a44bb08cfb4dd897142084\"></div>\n",
              "<script type=\"text/javascript\">\n",
              "  var VEGA_DEBUG = (typeof VEGA_DEBUG == \"undefined\") ? {} : VEGA_DEBUG;\n",
              "  (function(spec, embedOpt){\n",
              "    let outputDiv = document.currentScript.previousElementSibling;\n",
              "    if (outputDiv.id !== \"altair-viz-255f045ea2a44bb08cfb4dd897142084\") {\n",
              "      outputDiv = document.getElementById(\"altair-viz-255f045ea2a44bb08cfb4dd897142084\");\n",
              "    }\n",
              "    const paths = {\n",
              "      \"vega\": \"https://cdn.jsdelivr.net/npm//vega@5?noext\",\n",
              "      \"vega-lib\": \"https://cdn.jsdelivr.net/npm//vega-lib?noext\",\n",
              "      \"vega-lite\": \"https://cdn.jsdelivr.net/npm//vega-lite@4.17.0?noext\",\n",
              "      \"vega-embed\": \"https://cdn.jsdelivr.net/npm//vega-embed@6?noext\",\n",
              "    };\n",
              "\n",
              "    function maybeLoadScript(lib, version) {\n",
              "      var key = `${lib.replace(\"-\", \"\")}_version`;\n",
              "      return (VEGA_DEBUG[key] == version) ?\n",
              "        Promise.resolve(paths[lib]) :\n",
              "        new Promise(function(resolve, reject) {\n",
              "          var s = document.createElement('script');\n",
              "          document.getElementsByTagName(\"head\")[0].appendChild(s);\n",
              "          s.async = true;\n",
              "          s.onload = () => {\n",
              "            VEGA_DEBUG[key] = version;\n",
              "            return resolve(paths[lib]);\n",
              "          };\n",
              "          s.onerror = () => reject(`Error loading script: ${paths[lib]}`);\n",
              "          s.src = paths[lib];\n",
              "        });\n",
              "    }\n",
              "\n",
              "    function showError(err) {\n",
              "      outputDiv.innerHTML = `<div class=\"error\" style=\"color:red;\">${err}</div>`;\n",
              "      throw err;\n",
              "    }\n",
              "\n",
              "    function displayChart(vegaEmbed) {\n",
              "      vegaEmbed(outputDiv, spec, embedOpt)\n",
              "        .catch(err => showError(`Javascript Error: ${err.message}<br>This usually means there's a typo in your chart specification. See the javascript console for the full traceback.`));\n",
              "    }\n",
              "\n",
              "    if(typeof define === \"function\" && define.amd) {\n",
              "      requirejs.config({paths});\n",
              "      require([\"vega-embed\"], displayChart, err => showError(`Error loading script: ${err.message}`));\n",
              "    } else {\n",
              "      maybeLoadScript(\"vega\", \"5\")\n",
              "        .then(() => maybeLoadScript(\"vega-lite\", \"4.17.0\"))\n",
              "        .then(() => maybeLoadScript(\"vega-embed\", \"6\"))\n",
              "        .catch(showError)\n",
              "        .then(() => displayChart(vegaEmbed));\n",
              "    }\n",
              "  })({\"config\": {\"view\": {\"continuousWidth\": 400, \"continuousHeight\": 300}}, \"data\": {\"name\": \"data-d34bf5c074fdf6d6809f3a3ab3952e59\"}, \"mark\": \"line\", \"encoding\": {\"x\": {\"field\": \"Year\", \"type\": \"ordinal\"}, \"y\": {\"field\": \"Temperature (\\u00b0C)\", \"type\": \"quantitative\"}}, \"$schema\": \"https://vega.github.io/schema/vega-lite/v4.17.0.json\", \"datasets\": {\"data-d34bf5c074fdf6d6809f3a3ab3952e59\": [{\"Temperature (\\u00b0C)\": -0.16, \"Year\": \"1899\"}, {\"Temperature (\\u00b0C)\": -0.08, \"Year\": \"1900\"}, {\"Temperature (\\u00b0C)\": -0.16, \"Year\": \"1901\"}, {\"Temperature (\\u00b0C)\": -0.26, \"Year\": \"1902\"}, {\"Temperature (\\u00b0C)\": -0.38, \"Year\": \"1903\"}, {\"Temperature (\\u00b0C)\": -0.46, \"Year\": \"1904\"}, {\"Temperature (\\u00b0C)\": -0.28, \"Year\": \"1905\"}, {\"Temperature (\\u00b0C)\": -0.21, \"Year\": \"1906\"}, {\"Temperature (\\u00b0C)\": -0.38, \"Year\": \"1907\"}, {\"Temperature (\\u00b0C)\": -0.43, \"Year\": \"1908\"}, {\"Temperature (\\u00b0C)\": -0.44, \"Year\": \"1909\"}, {\"Temperature (\\u00b0C)\": -0.4, \"Year\": \"1910\"}, {\"Temperature (\\u00b0C)\": -0.44, \"Year\": \"1911\"}, {\"Temperature (\\u00b0C)\": -0.34, \"Year\": \"1912\"}, {\"Temperature (\\u00b0C)\": -0.32, \"Year\": \"1913\"}, {\"Temperature (\\u00b0C)\": -0.14, \"Year\": \"1914\"}, {\"Temperature (\\u00b0C)\": -0.09, \"Year\": \"1915\"}, {\"Temperature (\\u00b0C)\": -0.32, \"Year\": \"1916\"}, {\"Temperature (\\u00b0C)\": -0.4, \"Year\": \"1917\"}, {\"Temperature (\\u00b0C)\": -0.3, \"Year\": \"1918\"}, {\"Temperature (\\u00b0C)\": -0.25, \"Year\": \"1919\"}, {\"Temperature (\\u00b0C)\": -0.23, \"Year\": \"1920\"}, {\"Temperature (\\u00b0C)\": -0.16, \"Year\": \"1921\"}, {\"Temperature (\\u00b0C)\": -0.25, \"Year\": \"1922\"}, {\"Temperature (\\u00b0C)\": -0.25, \"Year\": \"1923\"}, {\"Temperature (\\u00b0C)\": -0.24, \"Year\": \"1924\"}, {\"Temperature (\\u00b0C)\": -0.18, \"Year\": \"1925\"}, {\"Temperature (\\u00b0C)\": -0.07, \"Year\": \"1926\"}, {\"Temperature (\\u00b0C)\": -0.17, \"Year\": \"1927\"}, {\"Temperature (\\u00b0C)\": -0.18, \"Year\": \"1928\"}, {\"Temperature (\\u00b0C)\": -0.32, \"Year\": \"1929\"}, {\"Temperature (\\u00b0C)\": -0.11, \"Year\": \"1930\"}, {\"Temperature (\\u00b0C)\": -0.06, \"Year\": \"1931\"}, {\"Temperature (\\u00b0C)\": -0.13, \"Year\": \"1932\"}, {\"Temperature (\\u00b0C)\": -0.26, \"Year\": \"1933\"}, {\"Temperature (\\u00b0C)\": -0.11, \"Year\": \"1934\"}, {\"Temperature (\\u00b0C)\": -0.16, \"Year\": \"1935\"}, {\"Temperature (\\u00b0C)\": -0.12, \"Year\": \"1936\"}, {\"Temperature (\\u00b0C)\": -0.01, \"Year\": \"1937\"}, {\"Temperature (\\u00b0C)\": -0.02, \"Year\": \"1938\"}, {\"Temperature (\\u00b0C)\": 0.01, \"Year\": \"1939\"}, {\"Temperature (\\u00b0C)\": 0.16, \"Year\": \"1940\"}, {\"Temperature (\\u00b0C)\": 0.27, \"Year\": \"1941\"}, {\"Temperature (\\u00b0C)\": 0.11, \"Year\": \"1942\"}, {\"Temperature (\\u00b0C)\": 0.11, \"Year\": \"1943\"}, {\"Temperature (\\u00b0C)\": 0.28, \"Year\": \"1944\"}, {\"Temperature (\\u00b0C)\": 0.18, \"Year\": \"1945\"}, {\"Temperature (\\u00b0C)\": -0.01, \"Year\": \"1946\"}, {\"Temperature (\\u00b0C)\": -0.04, \"Year\": \"1947\"}, {\"Temperature (\\u00b0C)\": -0.05, \"Year\": \"1948\"}, {\"Temperature (\\u00b0C)\": -0.08, \"Year\": \"1949\"}, {\"Temperature (\\u00b0C)\": -0.15, \"Year\": \"1950\"}, {\"Temperature (\\u00b0C)\": 0.0, \"Year\": \"1951\"}, {\"Temperature (\\u00b0C)\": 0.04, \"Year\": \"1952\"}, {\"Temperature (\\u00b0C)\": 0.13, \"Year\": \"1953\"}, {\"Temperature (\\u00b0C)\": -0.1, \"Year\": \"1954\"}, {\"Temperature (\\u00b0C)\": -0.13, \"Year\": \"1955\"}, {\"Temperature (\\u00b0C)\": -0.18, \"Year\": \"1956\"}, {\"Temperature (\\u00b0C)\": 0.07, \"Year\": \"1957\"}, {\"Temperature (\\u00b0C)\": 0.12, \"Year\": \"1958\"}, {\"Temperature (\\u00b0C)\": 0.08, \"Year\": \"1959\"}, {\"Temperature (\\u00b0C)\": 0.05, \"Year\": \"1960\"}, {\"Temperature (\\u00b0C)\": 0.09, \"Year\": \"1961\"}, {\"Temperature (\\u00b0C)\": 0.1, \"Year\": \"1962\"}, {\"Temperature (\\u00b0C)\": 0.12, \"Year\": \"1963\"}, {\"Temperature (\\u00b0C)\": -0.14, \"Year\": \"1964\"}, {\"Temperature (\\u00b0C)\": -0.07, \"Year\": \"1965\"}, {\"Temperature (\\u00b0C)\": -0.01, \"Year\": \"1966\"}, {\"Temperature (\\u00b0C)\": 0.0, \"Year\": \"1967\"}, {\"Temperature (\\u00b0C)\": -0.03, \"Year\": \"1968\"}, {\"Temperature (\\u00b0C)\": 0.1, \"Year\": \"1969\"}, {\"Temperature (\\u00b0C)\": 0.06, \"Year\": \"1970\"}, {\"Temperature (\\u00b0C)\": -0.07, \"Year\": \"1971\"}, {\"Temperature (\\u00b0C)\": 0.04, \"Year\": \"1972\"}, {\"Temperature (\\u00b0C)\": 0.19, \"Year\": \"1973\"}, {\"Temperature (\\u00b0C)\": -0.06, \"Year\": \"1974\"}, {\"Temperature (\\u00b0C)\": 0.01, \"Year\": \"1975\"}, {\"Temperature (\\u00b0C)\": -0.07, \"Year\": \"1976\"}, {\"Temperature (\\u00b0C)\": 0.21, \"Year\": \"1977\"}, {\"Temperature (\\u00b0C)\": 0.12, \"Year\": \"1978\"}, {\"Temperature (\\u00b0C)\": 0.23, \"Year\": \"1979\"}, {\"Temperature (\\u00b0C)\": 0.28, \"Year\": \"1980\"}, {\"Temperature (\\u00b0C)\": 0.32, \"Year\": \"1981\"}, {\"Temperature (\\u00b0C)\": 0.19, \"Year\": \"1982\"}, {\"Temperature (\\u00b0C)\": 0.36, \"Year\": \"1983\"}, {\"Temperature (\\u00b0C)\": 0.17, \"Year\": \"1984\"}, {\"Temperature (\\u00b0C)\": 0.16, \"Year\": \"1985\"}, {\"Temperature (\\u00b0C)\": 0.24, \"Year\": \"1986\"}, {\"Temperature (\\u00b0C)\": 0.38, \"Year\": \"1987\"}, {\"Temperature (\\u00b0C)\": 0.39, \"Year\": \"1988\"}, {\"Temperature (\\u00b0C)\": 0.29, \"Year\": \"1989\"}, {\"Temperature (\\u00b0C)\": 0.45, \"Year\": \"1990\"}, {\"Temperature (\\u00b0C)\": 0.39, \"Year\": \"1991\"}, {\"Temperature (\\u00b0C)\": 0.24, \"Year\": \"1992\"}, {\"Temperature (\\u00b0C)\": 0.28, \"Year\": \"1993\"}, {\"Temperature (\\u00b0C)\": 0.34, \"Year\": \"1994\"}, {\"Temperature (\\u00b0C)\": 0.47, \"Year\": \"1995\"}, {\"Temperature (\\u00b0C)\": 0.32, \"Year\": \"1996\"}, {\"Temperature (\\u00b0C)\": 0.51, \"Year\": \"1997\"}, {\"Temperature (\\u00b0C)\": 0.65, \"Year\": \"1998\"}, {\"Temperature (\\u00b0C)\": 0.44, \"Year\": \"1999\"}, {\"Temperature (\\u00b0C)\": 0.42, \"Year\": \"2000\"}, {\"Temperature (\\u00b0C)\": 0.57, \"Year\": \"2001\"}, {\"Temperature (\\u00b0C)\": 0.62, \"Year\": \"2002\"}, {\"Temperature (\\u00b0C)\": 0.64, \"Year\": \"2003\"}, {\"Temperature (\\u00b0C)\": 0.58, \"Year\": \"2004\"}, {\"Temperature (\\u00b0C)\": 0.66, \"Year\": \"2005\"}, {\"Temperature (\\u00b0C)\": 0.63, \"Year\": \"2006\"}, {\"Temperature (\\u00b0C)\": 0.62, \"Year\": \"2007\"}, {\"Temperature (\\u00b0C)\": 0.54, \"Year\": \"2008\"}, {\"Temperature (\\u00b0C)\": 0.64, \"Year\": \"2009\"}, {\"Temperature (\\u00b0C)\": 0.72, \"Year\": \"2010\"}, {\"Temperature (\\u00b0C)\": 0.57, \"Year\": \"2011\"}, {\"Temperature (\\u00b0C)\": 0.63, \"Year\": \"2012\"}, {\"Temperature (\\u00b0C)\": 0.67, \"Year\": \"2013\"}, {\"Temperature (\\u00b0C)\": 0.74, \"Year\": \"2014\"}, {\"Temperature (\\u00b0C)\": 0.93, \"Year\": \"2015\"}, {\"Temperature (\\u00b0C)\": 0.99, \"Year\": \"2016\"}, {\"Temperature (\\u00b0C)\": 0.91, \"Year\": \"2017\"}, {\"Temperature (\\u00b0C)\": 0.82, \"Year\": \"2018\"}, {\"Temperature (\\u00b0C)\": 0.95, \"Year\": \"2019\"}]}}, {\"mode\": \"vega-lite\"});\n",
              "</script>"
            ],
            "text/plain": [
              "alt.Chart(...)"
            ]
          },
          "metadata": {},
          "execution_count": 30
        }
      ]
    },
    {
      "cell_type": "markdown",
      "source": [
        "That looks alright! Let's play around with some of the chart properties so it looks less stretched."
      ],
      "metadata": {
        "id": "QuoAnS6SviBc"
      }
    },
    {
      "cell_type": "code",
      "source": [
        "# Adjust the scale by setting a width and height\n"
      ],
      "metadata": {
        "colab": {
          "base_uri": "https://localhost:8080/",
          "height": 598
        },
        "id": "5byyHuruj3j5",
        "outputId": "0e1f490e-4c3f-47bc-f294-cdc153eb2fa3"
      },
      "execution_count": null,
      "outputs": [
        {
          "output_type": "execute_result",
          "data": {
            "text/html": [
              "\n",
              "<div id=\"altair-viz-7b748a462df64d3a98613faeb5c4ced0\"></div>\n",
              "<script type=\"text/javascript\">\n",
              "  var VEGA_DEBUG = (typeof VEGA_DEBUG == \"undefined\") ? {} : VEGA_DEBUG;\n",
              "  (function(spec, embedOpt){\n",
              "    let outputDiv = document.currentScript.previousElementSibling;\n",
              "    if (outputDiv.id !== \"altair-viz-7b748a462df64d3a98613faeb5c4ced0\") {\n",
              "      outputDiv = document.getElementById(\"altair-viz-7b748a462df64d3a98613faeb5c4ced0\");\n",
              "    }\n",
              "    const paths = {\n",
              "      \"vega\": \"https://cdn.jsdelivr.net/npm//vega@5?noext\",\n",
              "      \"vega-lib\": \"https://cdn.jsdelivr.net/npm//vega-lib?noext\",\n",
              "      \"vega-lite\": \"https://cdn.jsdelivr.net/npm//vega-lite@4.17.0?noext\",\n",
              "      \"vega-embed\": \"https://cdn.jsdelivr.net/npm//vega-embed@6?noext\",\n",
              "    };\n",
              "\n",
              "    function maybeLoadScript(lib, version) {\n",
              "      var key = `${lib.replace(\"-\", \"\")}_version`;\n",
              "      return (VEGA_DEBUG[key] == version) ?\n",
              "        Promise.resolve(paths[lib]) :\n",
              "        new Promise(function(resolve, reject) {\n",
              "          var s = document.createElement('script');\n",
              "          document.getElementsByTagName(\"head\")[0].appendChild(s);\n",
              "          s.async = true;\n",
              "          s.onload = () => {\n",
              "            VEGA_DEBUG[key] = version;\n",
              "            return resolve(paths[lib]);\n",
              "          };\n",
              "          s.onerror = () => reject(`Error loading script: ${paths[lib]}`);\n",
              "          s.src = paths[lib];\n",
              "        });\n",
              "    }\n",
              "\n",
              "    function showError(err) {\n",
              "      outputDiv.innerHTML = `<div class=\"error\" style=\"color:red;\">${err}</div>`;\n",
              "      throw err;\n",
              "    }\n",
              "\n",
              "    function displayChart(vegaEmbed) {\n",
              "      vegaEmbed(outputDiv, spec, embedOpt)\n",
              "        .catch(err => showError(`Javascript Error: ${err.message}<br>This usually means there's a typo in your chart specification. See the javascript console for the full traceback.`));\n",
              "    }\n",
              "\n",
              "    if(typeof define === \"function\" && define.amd) {\n",
              "      requirejs.config({paths});\n",
              "      require([\"vega-embed\"], displayChart, err => showError(`Error loading script: ${err.message}`));\n",
              "    } else {\n",
              "      maybeLoadScript(\"vega\", \"5\")\n",
              "        .then(() => maybeLoadScript(\"vega-lite\", \"4.17.0\"))\n",
              "        .then(() => maybeLoadScript(\"vega-embed\", \"6\"))\n",
              "        .catch(showError)\n",
              "        .then(() => displayChart(vegaEmbed));\n",
              "    }\n",
              "  })({\"config\": {\"view\": {\"continuousWidth\": 400, \"continuousHeight\": 300}}, \"data\": {\"name\": \"data-d34bf5c074fdf6d6809f3a3ab3952e59\"}, \"mark\": \"line\", \"encoding\": {\"x\": {\"field\": \"Year\", \"type\": \"ordinal\"}, \"y\": {\"field\": \"Temperature (\\u00b0C)\", \"type\": \"quantitative\"}}, \"height\": 500, \"title\": \"Global Temperature Anomaly (1880-2020)\", \"width\": 700, \"$schema\": \"https://vega.github.io/schema/vega-lite/v4.17.0.json\", \"datasets\": {\"data-d34bf5c074fdf6d6809f3a3ab3952e59\": [{\"Temperature (\\u00b0C)\": -0.16, \"Year\": \"1899\"}, {\"Temperature (\\u00b0C)\": -0.08, \"Year\": \"1900\"}, {\"Temperature (\\u00b0C)\": -0.16, \"Year\": \"1901\"}, {\"Temperature (\\u00b0C)\": -0.26, \"Year\": \"1902\"}, {\"Temperature (\\u00b0C)\": -0.38, \"Year\": \"1903\"}, {\"Temperature (\\u00b0C)\": -0.46, \"Year\": \"1904\"}, {\"Temperature (\\u00b0C)\": -0.28, \"Year\": \"1905\"}, {\"Temperature (\\u00b0C)\": -0.21, \"Year\": \"1906\"}, {\"Temperature (\\u00b0C)\": -0.38, \"Year\": \"1907\"}, {\"Temperature (\\u00b0C)\": -0.43, \"Year\": \"1908\"}, {\"Temperature (\\u00b0C)\": -0.44, \"Year\": \"1909\"}, {\"Temperature (\\u00b0C)\": -0.4, \"Year\": \"1910\"}, {\"Temperature (\\u00b0C)\": -0.44, \"Year\": \"1911\"}, {\"Temperature (\\u00b0C)\": -0.34, \"Year\": \"1912\"}, {\"Temperature (\\u00b0C)\": -0.32, \"Year\": \"1913\"}, {\"Temperature (\\u00b0C)\": -0.14, \"Year\": \"1914\"}, {\"Temperature (\\u00b0C)\": -0.09, \"Year\": \"1915\"}, {\"Temperature (\\u00b0C)\": -0.32, \"Year\": \"1916\"}, {\"Temperature (\\u00b0C)\": -0.4, \"Year\": \"1917\"}, {\"Temperature (\\u00b0C)\": -0.3, \"Year\": \"1918\"}, {\"Temperature (\\u00b0C)\": -0.25, \"Year\": \"1919\"}, {\"Temperature (\\u00b0C)\": -0.23, \"Year\": \"1920\"}, {\"Temperature (\\u00b0C)\": -0.16, \"Year\": \"1921\"}, {\"Temperature (\\u00b0C)\": -0.25, \"Year\": \"1922\"}, {\"Temperature (\\u00b0C)\": -0.25, \"Year\": \"1923\"}, {\"Temperature (\\u00b0C)\": -0.24, \"Year\": \"1924\"}, {\"Temperature (\\u00b0C)\": -0.18, \"Year\": \"1925\"}, {\"Temperature (\\u00b0C)\": -0.07, \"Year\": \"1926\"}, {\"Temperature (\\u00b0C)\": -0.17, \"Year\": \"1927\"}, {\"Temperature (\\u00b0C)\": -0.18, \"Year\": \"1928\"}, {\"Temperature (\\u00b0C)\": -0.32, \"Year\": \"1929\"}, {\"Temperature (\\u00b0C)\": -0.11, \"Year\": \"1930\"}, {\"Temperature (\\u00b0C)\": -0.06, \"Year\": \"1931\"}, {\"Temperature (\\u00b0C)\": -0.13, \"Year\": \"1932\"}, {\"Temperature (\\u00b0C)\": -0.26, \"Year\": \"1933\"}, {\"Temperature (\\u00b0C)\": -0.11, \"Year\": \"1934\"}, {\"Temperature (\\u00b0C)\": -0.16, \"Year\": \"1935\"}, {\"Temperature (\\u00b0C)\": -0.12, \"Year\": \"1936\"}, {\"Temperature (\\u00b0C)\": -0.01, \"Year\": \"1937\"}, {\"Temperature (\\u00b0C)\": -0.02, \"Year\": \"1938\"}, {\"Temperature (\\u00b0C)\": 0.01, \"Year\": \"1939\"}, {\"Temperature (\\u00b0C)\": 0.16, \"Year\": \"1940\"}, {\"Temperature (\\u00b0C)\": 0.27, \"Year\": \"1941\"}, {\"Temperature (\\u00b0C)\": 0.11, \"Year\": \"1942\"}, {\"Temperature (\\u00b0C)\": 0.11, \"Year\": \"1943\"}, {\"Temperature (\\u00b0C)\": 0.28, \"Year\": \"1944\"}, {\"Temperature (\\u00b0C)\": 0.18, \"Year\": \"1945\"}, {\"Temperature (\\u00b0C)\": -0.01, \"Year\": \"1946\"}, {\"Temperature (\\u00b0C)\": -0.04, \"Year\": \"1947\"}, {\"Temperature (\\u00b0C)\": -0.05, \"Year\": \"1948\"}, {\"Temperature (\\u00b0C)\": -0.08, \"Year\": \"1949\"}, {\"Temperature (\\u00b0C)\": -0.15, \"Year\": \"1950\"}, {\"Temperature (\\u00b0C)\": 0.0, \"Year\": \"1951\"}, {\"Temperature (\\u00b0C)\": 0.04, \"Year\": \"1952\"}, {\"Temperature (\\u00b0C)\": 0.13, \"Year\": \"1953\"}, {\"Temperature (\\u00b0C)\": -0.1, \"Year\": \"1954\"}, {\"Temperature (\\u00b0C)\": -0.13, \"Year\": \"1955\"}, {\"Temperature (\\u00b0C)\": -0.18, \"Year\": \"1956\"}, {\"Temperature (\\u00b0C)\": 0.07, \"Year\": \"1957\"}, {\"Temperature (\\u00b0C)\": 0.12, \"Year\": \"1958\"}, {\"Temperature (\\u00b0C)\": 0.08, \"Year\": \"1959\"}, {\"Temperature (\\u00b0C)\": 0.05, \"Year\": \"1960\"}, {\"Temperature (\\u00b0C)\": 0.09, \"Year\": \"1961\"}, {\"Temperature (\\u00b0C)\": 0.1, \"Year\": \"1962\"}, {\"Temperature (\\u00b0C)\": 0.12, \"Year\": \"1963\"}, {\"Temperature (\\u00b0C)\": -0.14, \"Year\": \"1964\"}, {\"Temperature (\\u00b0C)\": -0.07, \"Year\": \"1965\"}, {\"Temperature (\\u00b0C)\": -0.01, \"Year\": \"1966\"}, {\"Temperature (\\u00b0C)\": 0.0, \"Year\": \"1967\"}, {\"Temperature (\\u00b0C)\": -0.03, \"Year\": \"1968\"}, {\"Temperature (\\u00b0C)\": 0.1, \"Year\": \"1969\"}, {\"Temperature (\\u00b0C)\": 0.06, \"Year\": \"1970\"}, {\"Temperature (\\u00b0C)\": -0.07, \"Year\": \"1971\"}, {\"Temperature (\\u00b0C)\": 0.04, \"Year\": \"1972\"}, {\"Temperature (\\u00b0C)\": 0.19, \"Year\": \"1973\"}, {\"Temperature (\\u00b0C)\": -0.06, \"Year\": \"1974\"}, {\"Temperature (\\u00b0C)\": 0.01, \"Year\": \"1975\"}, {\"Temperature (\\u00b0C)\": -0.07, \"Year\": \"1976\"}, {\"Temperature (\\u00b0C)\": 0.21, \"Year\": \"1977\"}, {\"Temperature (\\u00b0C)\": 0.12, \"Year\": \"1978\"}, {\"Temperature (\\u00b0C)\": 0.23, \"Year\": \"1979\"}, {\"Temperature (\\u00b0C)\": 0.28, \"Year\": \"1980\"}, {\"Temperature (\\u00b0C)\": 0.32, \"Year\": \"1981\"}, {\"Temperature (\\u00b0C)\": 0.19, \"Year\": \"1982\"}, {\"Temperature (\\u00b0C)\": 0.36, \"Year\": \"1983\"}, {\"Temperature (\\u00b0C)\": 0.17, \"Year\": \"1984\"}, {\"Temperature (\\u00b0C)\": 0.16, \"Year\": \"1985\"}, {\"Temperature (\\u00b0C)\": 0.24, \"Year\": \"1986\"}, {\"Temperature (\\u00b0C)\": 0.38, \"Year\": \"1987\"}, {\"Temperature (\\u00b0C)\": 0.39, \"Year\": \"1988\"}, {\"Temperature (\\u00b0C)\": 0.29, \"Year\": \"1989\"}, {\"Temperature (\\u00b0C)\": 0.45, \"Year\": \"1990\"}, {\"Temperature (\\u00b0C)\": 0.39, \"Year\": \"1991\"}, {\"Temperature (\\u00b0C)\": 0.24, \"Year\": \"1992\"}, {\"Temperature (\\u00b0C)\": 0.28, \"Year\": \"1993\"}, {\"Temperature (\\u00b0C)\": 0.34, \"Year\": \"1994\"}, {\"Temperature (\\u00b0C)\": 0.47, \"Year\": \"1995\"}, {\"Temperature (\\u00b0C)\": 0.32, \"Year\": \"1996\"}, {\"Temperature (\\u00b0C)\": 0.51, \"Year\": \"1997\"}, {\"Temperature (\\u00b0C)\": 0.65, \"Year\": \"1998\"}, {\"Temperature (\\u00b0C)\": 0.44, \"Year\": \"1999\"}, {\"Temperature (\\u00b0C)\": 0.42, \"Year\": \"2000\"}, {\"Temperature (\\u00b0C)\": 0.57, \"Year\": \"2001\"}, {\"Temperature (\\u00b0C)\": 0.62, \"Year\": \"2002\"}, {\"Temperature (\\u00b0C)\": 0.64, \"Year\": \"2003\"}, {\"Temperature (\\u00b0C)\": 0.58, \"Year\": \"2004\"}, {\"Temperature (\\u00b0C)\": 0.66, \"Year\": \"2005\"}, {\"Temperature (\\u00b0C)\": 0.63, \"Year\": \"2006\"}, {\"Temperature (\\u00b0C)\": 0.62, \"Year\": \"2007\"}, {\"Temperature (\\u00b0C)\": 0.54, \"Year\": \"2008\"}, {\"Temperature (\\u00b0C)\": 0.64, \"Year\": \"2009\"}, {\"Temperature (\\u00b0C)\": 0.72, \"Year\": \"2010\"}, {\"Temperature (\\u00b0C)\": 0.57, \"Year\": \"2011\"}, {\"Temperature (\\u00b0C)\": 0.63, \"Year\": \"2012\"}, {\"Temperature (\\u00b0C)\": 0.67, \"Year\": \"2013\"}, {\"Temperature (\\u00b0C)\": 0.74, \"Year\": \"2014\"}, {\"Temperature (\\u00b0C)\": 0.93, \"Year\": \"2015\"}, {\"Temperature (\\u00b0C)\": 0.99, \"Year\": \"2016\"}, {\"Temperature (\\u00b0C)\": 0.91, \"Year\": \"2017\"}, {\"Temperature (\\u00b0C)\": 0.82, \"Year\": \"2018\"}, {\"Temperature (\\u00b0C)\": 0.95, \"Year\": \"2019\"}]}}, {\"mode\": \"vega-lite\"});\n",
              "</script>"
            ],
            "text/plain": [
              "alt.Chart(...)"
            ]
          },
          "metadata": {},
          "execution_count": 33
        }
      ]
    },
    {
      "cell_type": "markdown",
      "metadata": {
        "id": "DRXhfXiYx2-R"
      },
      "source": [
        "While a line chart, as seen above, does show that there is a positive correlation between time and temperature, the intensity of the temperature difference is not as well visualized in this plot. An *anomaly plot* might make more sense for visualizing anomaly data, so we will try that next.\n",
        "\n",
        "To make the anomaly plot, we can use most of the same code as above, but we replace `mark_line()`, which made the graph a line graph, with `mark_area()`, which will create an anomoly plot instead. \n"
      ]
    },
    {
      "cell_type": "code",
      "metadata": {
        "id": "5PV-WbKlxxXV",
        "colab": {
          "base_uri": "https://localhost:8080/",
          "height": 398
        },
        "outputId": "c24069c3-988c-475d-cc8f-65e4b44243eb"
      },
      "source": [
        "# Create an area plot to represent anomaly data\n"
      ],
      "execution_count": null,
      "outputs": [
        {
          "output_type": "execute_result",
          "data": {
            "text/html": [
              "\n",
              "<div id=\"altair-viz-5af7cecb28724eb683250face091353e\"></div>\n",
              "<script type=\"text/javascript\">\n",
              "  var VEGA_DEBUG = (typeof VEGA_DEBUG == \"undefined\") ? {} : VEGA_DEBUG;\n",
              "  (function(spec, embedOpt){\n",
              "    let outputDiv = document.currentScript.previousElementSibling;\n",
              "    if (outputDiv.id !== \"altair-viz-5af7cecb28724eb683250face091353e\") {\n",
              "      outputDiv = document.getElementById(\"altair-viz-5af7cecb28724eb683250face091353e\");\n",
              "    }\n",
              "    const paths = {\n",
              "      \"vega\": \"https://cdn.jsdelivr.net/npm//vega@5?noext\",\n",
              "      \"vega-lib\": \"https://cdn.jsdelivr.net/npm//vega-lib?noext\",\n",
              "      \"vega-lite\": \"https://cdn.jsdelivr.net/npm//vega-lite@4.17.0?noext\",\n",
              "      \"vega-embed\": \"https://cdn.jsdelivr.net/npm//vega-embed@6?noext\",\n",
              "    };\n",
              "\n",
              "    function maybeLoadScript(lib, version) {\n",
              "      var key = `${lib.replace(\"-\", \"\")}_version`;\n",
              "      return (VEGA_DEBUG[key] == version) ?\n",
              "        Promise.resolve(paths[lib]) :\n",
              "        new Promise(function(resolve, reject) {\n",
              "          var s = document.createElement('script');\n",
              "          document.getElementsByTagName(\"head\")[0].appendChild(s);\n",
              "          s.async = true;\n",
              "          s.onload = () => {\n",
              "            VEGA_DEBUG[key] = version;\n",
              "            return resolve(paths[lib]);\n",
              "          };\n",
              "          s.onerror = () => reject(`Error loading script: ${paths[lib]}`);\n",
              "          s.src = paths[lib];\n",
              "        });\n",
              "    }\n",
              "\n",
              "    function showError(err) {\n",
              "      outputDiv.innerHTML = `<div class=\"error\" style=\"color:red;\">${err}</div>`;\n",
              "      throw err;\n",
              "    }\n",
              "\n",
              "    function displayChart(vegaEmbed) {\n",
              "      vegaEmbed(outputDiv, spec, embedOpt)\n",
              "        .catch(err => showError(`Javascript Error: ${err.message}<br>This usually means there's a typo in your chart specification. See the javascript console for the full traceback.`));\n",
              "    }\n",
              "\n",
              "    if(typeof define === \"function\" && define.amd) {\n",
              "      requirejs.config({paths});\n",
              "      require([\"vega-embed\"], displayChart, err => showError(`Error loading script: ${err.message}`));\n",
              "    } else {\n",
              "      maybeLoadScript(\"vega\", \"5\")\n",
              "        .then(() => maybeLoadScript(\"vega-lite\", \"4.17.0\"))\n",
              "        .then(() => maybeLoadScript(\"vega-embed\", \"6\"))\n",
              "        .catch(showError)\n",
              "        .then(() => displayChart(vegaEmbed));\n",
              "    }\n",
              "  })({\"config\": {\"view\": {\"continuousWidth\": 400, \"continuousHeight\": 300}}, \"data\": {\"name\": \"data-a3da84a113dac1b4c4b9763c52b85c1b\"}, \"mark\": \"area\", \"encoding\": {\"x\": {\"field\": \"Year\", \"type\": \"ordinal\"}, \"y\": {\"field\": \"Temperature (\\u00b0C)\", \"type\": \"quantitative\"}}, \"title\": \"Global Temperature Anomaly (1880-2020)\", \"width\": 700, \"$schema\": \"https://vega.github.io/schema/vega-lite/v4.17.0.json\", \"datasets\": {\"data-a3da84a113dac1b4c4b9763c52b85c1b\": [{\"Year\": 1880, \"Temperature (\\u00b0C)\": -0.1}, {\"Year\": 1881, \"Temperature (\\u00b0C)\": -0.07}, {\"Year\": 1882, \"Temperature (\\u00b0C)\": 0.05}, {\"Year\": 1883, \"Temperature (\\u00b0C)\": -0.31}, {\"Year\": 1884, \"Temperature (\\u00b0C)\": -0.21}, {\"Year\": 1885, \"Temperature (\\u00b0C)\": -0.37}, {\"Year\": 1886, \"Temperature (\\u00b0C)\": -0.25}, {\"Year\": 1887, \"Temperature (\\u00b0C)\": -0.49}, {\"Year\": 1888, \"Temperature (\\u00b0C)\": -0.3}, {\"Year\": 1889, \"Temperature (\\u00b0C)\": 0.01}, {\"Year\": 1890, \"Temperature (\\u00b0C)\": -0.34}, {\"Year\": 1891, \"Temperature (\\u00b0C)\": -0.46}, {\"Year\": 1892, \"Temperature (\\u00b0C)\": -0.19}, {\"Year\": 1893, \"Temperature (\\u00b0C)\": -0.68}, {\"Year\": 1894, \"Temperature (\\u00b0C)\": -0.32}, {\"Year\": 1895, \"Temperature (\\u00b0C)\": -0.41}, {\"Year\": 1896, \"Temperature (\\u00b0C)\": -0.13}, {\"Year\": 1897, \"Temperature (\\u00b0C)\": -0.12}, {\"Year\": 1898, \"Temperature (\\u00b0C)\": -0.15}, {\"Year\": 1899, \"Temperature (\\u00b0C)\": -0.23}, {\"Year\": 1900, \"Temperature (\\u00b0C)\": -0.21}, {\"Year\": 1901, \"Temperature (\\u00b0C)\": -0.12}, {\"Year\": 1902, \"Temperature (\\u00b0C)\": -0.08}, {\"Year\": 1903, \"Temperature (\\u00b0C)\": -0.16}, {\"Year\": 1904, \"Temperature (\\u00b0C)\": -0.6}, {\"Year\": 1905, \"Temperature (\\u00b0C)\": -0.49}, {\"Year\": 1906, \"Temperature (\\u00b0C)\": -0.19}, {\"Year\": 1907, \"Temperature (\\u00b0C)\": -0.43}, {\"Year\": 1908, \"Temperature (\\u00b0C)\": -0.37}, {\"Year\": 1909, \"Temperature (\\u00b0C)\": -0.52}, {\"Year\": 1910, \"Temperature (\\u00b0C)\": -0.38}, {\"Year\": 1911, \"Temperature (\\u00b0C)\": -0.56}, {\"Year\": 1912, \"Temperature (\\u00b0C)\": -0.2}, {\"Year\": 1913, \"Temperature (\\u00b0C)\": -0.38}, {\"Year\": 1914, \"Temperature (\\u00b0C)\": 0.0}, {\"Year\": 1915, \"Temperature (\\u00b0C)\": -0.07}, {\"Year\": 1916, \"Temperature (\\u00b0C)\": -0.15}, {\"Year\": 1917, \"Temperature (\\u00b0C)\": -0.55}, {\"Year\": 1918, \"Temperature (\\u00b0C)\": -0.35}, {\"Year\": 1919, \"Temperature (\\u00b0C)\": -0.18}, {\"Year\": 1920, \"Temperature (\\u00b0C)\": -0.27}, {\"Year\": 1921, \"Temperature (\\u00b0C)\": -0.13}, {\"Year\": 1922, \"Temperature (\\u00b0C)\": -0.31}, {\"Year\": 1923, \"Temperature (\\u00b0C)\": -0.33}, {\"Year\": 1924, \"Temperature (\\u00b0C)\": -0.2}, {\"Year\": 1925, \"Temperature (\\u00b0C)\": -0.39}, {\"Year\": 1926, \"Temperature (\\u00b0C)\": 0.08}, {\"Year\": 1927, \"Temperature (\\u00b0C)\": -0.21}, {\"Year\": 1928, \"Temperature (\\u00b0C)\": -0.12}, {\"Year\": 1929, \"Temperature (\\u00b0C)\": -0.53}, {\"Year\": 1930, \"Temperature (\\u00b0C)\": -0.29}, {\"Year\": 1931, \"Temperature (\\u00b0C)\": -0.12}, {\"Year\": 1932, \"Temperature (\\u00b0C)\": -0.01}, {\"Year\": 1933, \"Temperature (\\u00b0C)\": -0.3}, {\"Year\": 1934, \"Temperature (\\u00b0C)\": -0.19}, {\"Year\": 1935, \"Temperature (\\u00b0C)\": -0.06}, {\"Year\": 1936, \"Temperature (\\u00b0C)\": -0.29}, {\"Year\": 1937, \"Temperature (\\u00b0C)\": -0.08}, {\"Year\": 1938, \"Temperature (\\u00b0C)\": 0.0}, {\"Year\": 1939, \"Temperature (\\u00b0C)\": -0.1}, {\"Year\": 1940, \"Temperature (\\u00b0C)\": 0.07}, {\"Year\": 1941, \"Temperature (\\u00b0C)\": 0.31}, {\"Year\": 1942, \"Temperature (\\u00b0C)\": 0.18}, {\"Year\": 1943, \"Temperature (\\u00b0C)\": 0.04}, {\"Year\": 1944, \"Temperature (\\u00b0C)\": 0.33}, {\"Year\": 1945, \"Temperature (\\u00b0C)\": 0.11}, {\"Year\": 1946, \"Temperature (\\u00b0C)\": 0.19}, {\"Year\": 1947, \"Temperature (\\u00b0C)\": -0.12}, {\"Year\": 1948, \"Temperature (\\u00b0C)\": -0.02}, {\"Year\": 1949, \"Temperature (\\u00b0C)\": -0.01}, {\"Year\": 1950, \"Temperature (\\u00b0C)\": -0.26}, {\"Year\": 1951, \"Temperature (\\u00b0C)\": -0.34}, {\"Year\": 1952, \"Temperature (\\u00b0C)\": 0.12}, {\"Year\": 1953, \"Temperature (\\u00b0C)\": 0.13}, {\"Year\": 1954, \"Temperature (\\u00b0C)\": -0.13}, {\"Year\": 1955, \"Temperature (\\u00b0C)\": 0.02}, {\"Year\": 1956, \"Temperature (\\u00b0C)\": -0.19}, {\"Year\": 1957, \"Temperature (\\u00b0C)\": -0.08}, {\"Year\": 1958, \"Temperature (\\u00b0C)\": 0.27}, {\"Year\": 1959, \"Temperature (\\u00b0C)\": 0.12}, {\"Year\": 1960, \"Temperature (\\u00b0C)\": 0.12}, {\"Year\": 1961, \"Temperature (\\u00b0C)\": 0.17}, {\"Year\": 1962, \"Temperature (\\u00b0C)\": 0.15}, {\"Year\": 1963, \"Temperature (\\u00b0C)\": 0.16}, {\"Year\": 1964, \"Temperature (\\u00b0C)\": -0.02}, {\"Year\": 1965, \"Temperature (\\u00b0C)\": -0.13}, {\"Year\": 1966, \"Temperature (\\u00b0C)\": -0.04}, {\"Year\": 1967, \"Temperature (\\u00b0C)\": -0.14}, {\"Year\": 1968, \"Temperature (\\u00b0C)\": -0.16}, {\"Year\": 1969, \"Temperature (\\u00b0C)\": -0.09}, {\"Year\": 1970, \"Temperature (\\u00b0C)\": 0.19}, {\"Year\": 1971, \"Temperature (\\u00b0C)\": -0.09}, {\"Year\": 1972, \"Temperature (\\u00b0C)\": -0.2}, {\"Year\": 1973, \"Temperature (\\u00b0C)\": 0.34}, {\"Year\": 1974, \"Temperature (\\u00b0C)\": -0.22}, {\"Year\": 1975, \"Temperature (\\u00b0C)\": 0.08}, {\"Year\": 1976, \"Temperature (\\u00b0C)\": -0.07}, {\"Year\": 1977, \"Temperature (\\u00b0C)\": 0.19}, {\"Year\": 1978, \"Temperature (\\u00b0C)\": 0.16}, {\"Year\": 1979, \"Temperature (\\u00b0C)\": 0.1}, {\"Year\": 1980, \"Temperature (\\u00b0C)\": 0.36}, {\"Year\": 1981, \"Temperature (\\u00b0C)\": 0.46}, {\"Year\": 1982, \"Temperature (\\u00b0C)\": 0.17}, {\"Year\": 1983, \"Temperature (\\u00b0C)\": 0.51}, {\"Year\": 1984, \"Temperature (\\u00b0C)\": 0.24}, {\"Year\": 1985, \"Temperature (\\u00b0C)\": 0.14}, {\"Year\": 1986, \"Temperature (\\u00b0C)\": 0.31}, {\"Year\": 1987, \"Temperature (\\u00b0C)\": 0.41}, {\"Year\": 1988, \"Temperature (\\u00b0C)\": 0.5}, {\"Year\": 1989, \"Temperature (\\u00b0C)\": 0.24}, {\"Year\": 1990, \"Temperature (\\u00b0C)\": 0.38}, {\"Year\": 1991, \"Temperature (\\u00b0C)\": 0.44}, {\"Year\": 1992, \"Temperature (\\u00b0C)\": 0.45}, {\"Year\": 1993, \"Temperature (\\u00b0C)\": 0.37}, {\"Year\": 1994, \"Temperature (\\u00b0C)\": 0.17}, {\"Year\": 1995, \"Temperature (\\u00b0C)\": 0.65}, {\"Year\": 1996, \"Temperature (\\u00b0C)\": 0.36}, {\"Year\": 1997, \"Temperature (\\u00b0C)\": 0.39}, {\"Year\": 1998, \"Temperature (\\u00b0C)\": 0.74}, {\"Year\": 1999, \"Temperature (\\u00b0C)\": 0.6}, {\"Year\": 2000, \"Temperature (\\u00b0C)\": 0.45}, {\"Year\": 2001, \"Temperature (\\u00b0C)\": 0.44}, {\"Year\": 2002, \"Temperature (\\u00b0C)\": 0.75}, {\"Year\": 2003, \"Temperature (\\u00b0C)\": 0.65}, {\"Year\": 2004, \"Temperature (\\u00b0C)\": 0.67}, {\"Year\": 2005, \"Temperature (\\u00b0C)\": 0.6}, {\"Year\": 2006, \"Temperature (\\u00b0C)\": 0.6}, {\"Year\": 2007, \"Temperature (\\u00b0C)\": 0.8}, {\"Year\": 2008, \"Temperature (\\u00b0C)\": 0.32}, {\"Year\": 2009, \"Temperature (\\u00b0C)\": 0.58}, {\"Year\": 2010, \"Temperature (\\u00b0C)\": 0.77}, {\"Year\": 2011, \"Temperature (\\u00b0C)\": 0.46}, {\"Year\": 2012, \"Temperature (\\u00b0C)\": 0.45}, {\"Year\": 2013, \"Temperature (\\u00b0C)\": 0.64}, {\"Year\": 2014, \"Temperature (\\u00b0C)\": 0.59}, {\"Year\": 2015, \"Temperature (\\u00b0C)\": 0.85}, {\"Year\": 2016, \"Temperature (\\u00b0C)\": 1.19}, {\"Year\": 2017, \"Temperature (\\u00b0C)\": 1.0}, {\"Year\": 2018, \"Temperature (\\u00b0C)\": 0.76}, {\"Year\": 2019, \"Temperature (\\u00b0C)\": 0.89}]}}, {\"mode\": \"vega-lite\"});\n",
              "</script>"
            ],
            "text/plain": [
              "alt.Chart(...)"
            ]
          },
          "metadata": {},
          "execution_count": 16
        }
      ]
    },
    {
      "cell_type": "markdown",
      "source": [
        "Try treating the year as quantitative data."
      ],
      "metadata": {
        "id": "yvtKchekGzZW"
      }
    },
    {
      "cell_type": "code",
      "source": [
        "# Encode the year as temporal data\n"
      ],
      "metadata": {
        "colab": {
          "base_uri": "https://localhost:8080/",
          "height": 385
        },
        "id": "XO-VBmVQG5Mz",
        "outputId": "804f7fc1-9613-433c-ac3d-da27d2ad51ea"
      },
      "execution_count": null,
      "outputs": [
        {
          "output_type": "execute_result",
          "data": {
            "text/html": [
              "\n",
              "<div id=\"altair-viz-25c68e909e6140da80fb4d5e63486df4\"></div>\n",
              "<script type=\"text/javascript\">\n",
              "  var VEGA_DEBUG = (typeof VEGA_DEBUG == \"undefined\") ? {} : VEGA_DEBUG;\n",
              "  (function(spec, embedOpt){\n",
              "    let outputDiv = document.currentScript.previousElementSibling;\n",
              "    if (outputDiv.id !== \"altair-viz-25c68e909e6140da80fb4d5e63486df4\") {\n",
              "      outputDiv = document.getElementById(\"altair-viz-25c68e909e6140da80fb4d5e63486df4\");\n",
              "    }\n",
              "    const paths = {\n",
              "      \"vega\": \"https://cdn.jsdelivr.net/npm//vega@5?noext\",\n",
              "      \"vega-lib\": \"https://cdn.jsdelivr.net/npm//vega-lib?noext\",\n",
              "      \"vega-lite\": \"https://cdn.jsdelivr.net/npm//vega-lite@4.17.0?noext\",\n",
              "      \"vega-embed\": \"https://cdn.jsdelivr.net/npm//vega-embed@6?noext\",\n",
              "    };\n",
              "\n",
              "    function maybeLoadScript(lib, version) {\n",
              "      var key = `${lib.replace(\"-\", \"\")}_version`;\n",
              "      return (VEGA_DEBUG[key] == version) ?\n",
              "        Promise.resolve(paths[lib]) :\n",
              "        new Promise(function(resolve, reject) {\n",
              "          var s = document.createElement('script');\n",
              "          document.getElementsByTagName(\"head\")[0].appendChild(s);\n",
              "          s.async = true;\n",
              "          s.onload = () => {\n",
              "            VEGA_DEBUG[key] = version;\n",
              "            return resolve(paths[lib]);\n",
              "          };\n",
              "          s.onerror = () => reject(`Error loading script: ${paths[lib]}`);\n",
              "          s.src = paths[lib];\n",
              "        });\n",
              "    }\n",
              "\n",
              "    function showError(err) {\n",
              "      outputDiv.innerHTML = `<div class=\"error\" style=\"color:red;\">${err}</div>`;\n",
              "      throw err;\n",
              "    }\n",
              "\n",
              "    function displayChart(vegaEmbed) {\n",
              "      vegaEmbed(outputDiv, spec, embedOpt)\n",
              "        .catch(err => showError(`Javascript Error: ${err.message}<br>This usually means there's a typo in your chart specification. See the javascript console for the full traceback.`));\n",
              "    }\n",
              "\n",
              "    if(typeof define === \"function\" && define.amd) {\n",
              "      requirejs.config({paths});\n",
              "      require([\"vega-embed\"], displayChart, err => showError(`Error loading script: ${err.message}`));\n",
              "    } else {\n",
              "      maybeLoadScript(\"vega\", \"5\")\n",
              "        .then(() => maybeLoadScript(\"vega-lite\", \"4.17.0\"))\n",
              "        .then(() => maybeLoadScript(\"vega-embed\", \"6\"))\n",
              "        .catch(showError)\n",
              "        .then(() => displayChart(vegaEmbed));\n",
              "    }\n",
              "  })({\"config\": {\"view\": {\"continuousWidth\": 400, \"continuousHeight\": 300}}, \"data\": {\"name\": \"data-d34bf5c074fdf6d6809f3a3ab3952e59\"}, \"mark\": \"area\", \"encoding\": {\"x\": {\"field\": \"Year\", \"type\": \"temporal\"}, \"y\": {\"field\": \"Temperature (\\u00b0C)\", \"type\": \"quantitative\"}}, \"title\": \"Global Temperature Anomaly (1880-2020)\", \"width\": 800, \"$schema\": \"https://vega.github.io/schema/vega-lite/v4.17.0.json\", \"datasets\": {\"data-d34bf5c074fdf6d6809f3a3ab3952e59\": [{\"Temperature (\\u00b0C)\": -0.16, \"Year\": \"1899\"}, {\"Temperature (\\u00b0C)\": -0.08, \"Year\": \"1900\"}, {\"Temperature (\\u00b0C)\": -0.16, \"Year\": \"1901\"}, {\"Temperature (\\u00b0C)\": -0.26, \"Year\": \"1902\"}, {\"Temperature (\\u00b0C)\": -0.38, \"Year\": \"1903\"}, {\"Temperature (\\u00b0C)\": -0.46, \"Year\": \"1904\"}, {\"Temperature (\\u00b0C)\": -0.28, \"Year\": \"1905\"}, {\"Temperature (\\u00b0C)\": -0.21, \"Year\": \"1906\"}, {\"Temperature (\\u00b0C)\": -0.38, \"Year\": \"1907\"}, {\"Temperature (\\u00b0C)\": -0.43, \"Year\": \"1908\"}, {\"Temperature (\\u00b0C)\": -0.44, \"Year\": \"1909\"}, {\"Temperature (\\u00b0C)\": -0.4, \"Year\": \"1910\"}, {\"Temperature (\\u00b0C)\": -0.44, \"Year\": \"1911\"}, {\"Temperature (\\u00b0C)\": -0.34, \"Year\": \"1912\"}, {\"Temperature (\\u00b0C)\": -0.32, \"Year\": \"1913\"}, {\"Temperature (\\u00b0C)\": -0.14, \"Year\": \"1914\"}, {\"Temperature (\\u00b0C)\": -0.09, \"Year\": \"1915\"}, {\"Temperature (\\u00b0C)\": -0.32, \"Year\": \"1916\"}, {\"Temperature (\\u00b0C)\": -0.4, \"Year\": \"1917\"}, {\"Temperature (\\u00b0C)\": -0.3, \"Year\": \"1918\"}, {\"Temperature (\\u00b0C)\": -0.25, \"Year\": \"1919\"}, {\"Temperature (\\u00b0C)\": -0.23, \"Year\": \"1920\"}, {\"Temperature (\\u00b0C)\": -0.16, \"Year\": \"1921\"}, {\"Temperature (\\u00b0C)\": -0.25, \"Year\": \"1922\"}, {\"Temperature (\\u00b0C)\": -0.25, \"Year\": \"1923\"}, {\"Temperature (\\u00b0C)\": -0.24, \"Year\": \"1924\"}, {\"Temperature (\\u00b0C)\": -0.18, \"Year\": \"1925\"}, {\"Temperature (\\u00b0C)\": -0.07, \"Year\": \"1926\"}, {\"Temperature (\\u00b0C)\": -0.17, \"Year\": \"1927\"}, {\"Temperature (\\u00b0C)\": -0.18, \"Year\": \"1928\"}, {\"Temperature (\\u00b0C)\": -0.32, \"Year\": \"1929\"}, {\"Temperature (\\u00b0C)\": -0.11, \"Year\": \"1930\"}, {\"Temperature (\\u00b0C)\": -0.06, \"Year\": \"1931\"}, {\"Temperature (\\u00b0C)\": -0.13, \"Year\": \"1932\"}, {\"Temperature (\\u00b0C)\": -0.26, \"Year\": \"1933\"}, {\"Temperature (\\u00b0C)\": -0.11, \"Year\": \"1934\"}, {\"Temperature (\\u00b0C)\": -0.16, \"Year\": \"1935\"}, {\"Temperature (\\u00b0C)\": -0.12, \"Year\": \"1936\"}, {\"Temperature (\\u00b0C)\": -0.01, \"Year\": \"1937\"}, {\"Temperature (\\u00b0C)\": -0.02, \"Year\": \"1938\"}, {\"Temperature (\\u00b0C)\": 0.01, \"Year\": \"1939\"}, {\"Temperature (\\u00b0C)\": 0.16, \"Year\": \"1940\"}, {\"Temperature (\\u00b0C)\": 0.27, \"Year\": \"1941\"}, {\"Temperature (\\u00b0C)\": 0.11, \"Year\": \"1942\"}, {\"Temperature (\\u00b0C)\": 0.11, \"Year\": \"1943\"}, {\"Temperature (\\u00b0C)\": 0.28, \"Year\": \"1944\"}, {\"Temperature (\\u00b0C)\": 0.18, \"Year\": \"1945\"}, {\"Temperature (\\u00b0C)\": -0.01, \"Year\": \"1946\"}, {\"Temperature (\\u00b0C)\": -0.04, \"Year\": \"1947\"}, {\"Temperature (\\u00b0C)\": -0.05, \"Year\": \"1948\"}, {\"Temperature (\\u00b0C)\": -0.08, \"Year\": \"1949\"}, {\"Temperature (\\u00b0C)\": -0.15, \"Year\": \"1950\"}, {\"Temperature (\\u00b0C)\": 0.0, \"Year\": \"1951\"}, {\"Temperature (\\u00b0C)\": 0.04, \"Year\": \"1952\"}, {\"Temperature (\\u00b0C)\": 0.13, \"Year\": \"1953\"}, {\"Temperature (\\u00b0C)\": -0.1, \"Year\": \"1954\"}, {\"Temperature (\\u00b0C)\": -0.13, \"Year\": \"1955\"}, {\"Temperature (\\u00b0C)\": -0.18, \"Year\": \"1956\"}, {\"Temperature (\\u00b0C)\": 0.07, \"Year\": \"1957\"}, {\"Temperature (\\u00b0C)\": 0.12, \"Year\": \"1958\"}, {\"Temperature (\\u00b0C)\": 0.08, \"Year\": \"1959\"}, {\"Temperature (\\u00b0C)\": 0.05, \"Year\": \"1960\"}, {\"Temperature (\\u00b0C)\": 0.09, \"Year\": \"1961\"}, {\"Temperature (\\u00b0C)\": 0.1, \"Year\": \"1962\"}, {\"Temperature (\\u00b0C)\": 0.12, \"Year\": \"1963\"}, {\"Temperature (\\u00b0C)\": -0.14, \"Year\": \"1964\"}, {\"Temperature (\\u00b0C)\": -0.07, \"Year\": \"1965\"}, {\"Temperature (\\u00b0C)\": -0.01, \"Year\": \"1966\"}, {\"Temperature (\\u00b0C)\": 0.0, \"Year\": \"1967\"}, {\"Temperature (\\u00b0C)\": -0.03, \"Year\": \"1968\"}, {\"Temperature (\\u00b0C)\": 0.1, \"Year\": \"1969\"}, {\"Temperature (\\u00b0C)\": 0.06, \"Year\": \"1970\"}, {\"Temperature (\\u00b0C)\": -0.07, \"Year\": \"1971\"}, {\"Temperature (\\u00b0C)\": 0.04, \"Year\": \"1972\"}, {\"Temperature (\\u00b0C)\": 0.19, \"Year\": \"1973\"}, {\"Temperature (\\u00b0C)\": -0.06, \"Year\": \"1974\"}, {\"Temperature (\\u00b0C)\": 0.01, \"Year\": \"1975\"}, {\"Temperature (\\u00b0C)\": -0.07, \"Year\": \"1976\"}, {\"Temperature (\\u00b0C)\": 0.21, \"Year\": \"1977\"}, {\"Temperature (\\u00b0C)\": 0.12, \"Year\": \"1978\"}, {\"Temperature (\\u00b0C)\": 0.23, \"Year\": \"1979\"}, {\"Temperature (\\u00b0C)\": 0.28, \"Year\": \"1980\"}, {\"Temperature (\\u00b0C)\": 0.32, \"Year\": \"1981\"}, {\"Temperature (\\u00b0C)\": 0.19, \"Year\": \"1982\"}, {\"Temperature (\\u00b0C)\": 0.36, \"Year\": \"1983\"}, {\"Temperature (\\u00b0C)\": 0.17, \"Year\": \"1984\"}, {\"Temperature (\\u00b0C)\": 0.16, \"Year\": \"1985\"}, {\"Temperature (\\u00b0C)\": 0.24, \"Year\": \"1986\"}, {\"Temperature (\\u00b0C)\": 0.38, \"Year\": \"1987\"}, {\"Temperature (\\u00b0C)\": 0.39, \"Year\": \"1988\"}, {\"Temperature (\\u00b0C)\": 0.29, \"Year\": \"1989\"}, {\"Temperature (\\u00b0C)\": 0.45, \"Year\": \"1990\"}, {\"Temperature (\\u00b0C)\": 0.39, \"Year\": \"1991\"}, {\"Temperature (\\u00b0C)\": 0.24, \"Year\": \"1992\"}, {\"Temperature (\\u00b0C)\": 0.28, \"Year\": \"1993\"}, {\"Temperature (\\u00b0C)\": 0.34, \"Year\": \"1994\"}, {\"Temperature (\\u00b0C)\": 0.47, \"Year\": \"1995\"}, {\"Temperature (\\u00b0C)\": 0.32, \"Year\": \"1996\"}, {\"Temperature (\\u00b0C)\": 0.51, \"Year\": \"1997\"}, {\"Temperature (\\u00b0C)\": 0.65, \"Year\": \"1998\"}, {\"Temperature (\\u00b0C)\": 0.44, \"Year\": \"1999\"}, {\"Temperature (\\u00b0C)\": 0.42, \"Year\": \"2000\"}, {\"Temperature (\\u00b0C)\": 0.57, \"Year\": \"2001\"}, {\"Temperature (\\u00b0C)\": 0.62, \"Year\": \"2002\"}, {\"Temperature (\\u00b0C)\": 0.64, \"Year\": \"2003\"}, {\"Temperature (\\u00b0C)\": 0.58, \"Year\": \"2004\"}, {\"Temperature (\\u00b0C)\": 0.66, \"Year\": \"2005\"}, {\"Temperature (\\u00b0C)\": 0.63, \"Year\": \"2006\"}, {\"Temperature (\\u00b0C)\": 0.62, \"Year\": \"2007\"}, {\"Temperature (\\u00b0C)\": 0.54, \"Year\": \"2008\"}, {\"Temperature (\\u00b0C)\": 0.64, \"Year\": \"2009\"}, {\"Temperature (\\u00b0C)\": 0.72, \"Year\": \"2010\"}, {\"Temperature (\\u00b0C)\": 0.57, \"Year\": \"2011\"}, {\"Temperature (\\u00b0C)\": 0.63, \"Year\": \"2012\"}, {\"Temperature (\\u00b0C)\": 0.67, \"Year\": \"2013\"}, {\"Temperature (\\u00b0C)\": 0.74, \"Year\": \"2014\"}, {\"Temperature (\\u00b0C)\": 0.93, \"Year\": \"2015\"}, {\"Temperature (\\u00b0C)\": 0.99, \"Year\": \"2016\"}, {\"Temperature (\\u00b0C)\": 0.91, \"Year\": \"2017\"}, {\"Temperature (\\u00b0C)\": 0.82, \"Year\": \"2018\"}, {\"Temperature (\\u00b0C)\": 0.95, \"Year\": \"2019\"}]}}, {\"mode\": \"vega-lite\"});\n",
              "</script>"
            ],
            "text/plain": [
              "alt.Chart(...)"
            ]
          },
          "metadata": {},
          "execution_count": 41
        }
      ]
    },
    {
      "cell_type": "markdown",
      "metadata": {
        "id": "fWUNUYdBya60"
      },
      "source": [
        "Now, let's add color to show that a more positive temperature anomally value correlates with warmer temperatures and a more negative temperature anomally value correlates with a cooler temperature. \n",
        "\n",
        "If you would like to change the colors we have previously picked out, feel free to look through this website: [Color-Hex](https://www.color-hex.com/). Simply replace the '#Color' we have below with the color code that you like best. "
      ]
    },
    {
      "cell_type": "code",
      "metadata": {
        "id": "gQb9DxMLyZGr",
        "colab": {
          "base_uri": "https://localhost:8080/",
          "height": 385
        },
        "outputId": "c10e9ccb-4122-43ac-d0f2-52bf46470350"
      },
      "source": [
        "# Add some color to our anomaly plot\n"
      ],
      "execution_count": null,
      "outputs": [
        {
          "output_type": "execute_result",
          "data": {
            "text/html": [
              "\n",
              "<div id=\"altair-viz-db7952300bb8489aa4d3326daa58875f\"></div>\n",
              "<script type=\"text/javascript\">\n",
              "  var VEGA_DEBUG = (typeof VEGA_DEBUG == \"undefined\") ? {} : VEGA_DEBUG;\n",
              "  (function(spec, embedOpt){\n",
              "    let outputDiv = document.currentScript.previousElementSibling;\n",
              "    if (outputDiv.id !== \"altair-viz-db7952300bb8489aa4d3326daa58875f\") {\n",
              "      outputDiv = document.getElementById(\"altair-viz-db7952300bb8489aa4d3326daa58875f\");\n",
              "    }\n",
              "    const paths = {\n",
              "      \"vega\": \"https://cdn.jsdelivr.net/npm//vega@5?noext\",\n",
              "      \"vega-lib\": \"https://cdn.jsdelivr.net/npm//vega-lib?noext\",\n",
              "      \"vega-lite\": \"https://cdn.jsdelivr.net/npm//vega-lite@4.17.0?noext\",\n",
              "      \"vega-embed\": \"https://cdn.jsdelivr.net/npm//vega-embed@6?noext\",\n",
              "    };\n",
              "\n",
              "    function maybeLoadScript(lib, version) {\n",
              "      var key = `${lib.replace(\"-\", \"\")}_version`;\n",
              "      return (VEGA_DEBUG[key] == version) ?\n",
              "        Promise.resolve(paths[lib]) :\n",
              "        new Promise(function(resolve, reject) {\n",
              "          var s = document.createElement('script');\n",
              "          document.getElementsByTagName(\"head\")[0].appendChild(s);\n",
              "          s.async = true;\n",
              "          s.onload = () => {\n",
              "            VEGA_DEBUG[key] = version;\n",
              "            return resolve(paths[lib]);\n",
              "          };\n",
              "          s.onerror = () => reject(`Error loading script: ${paths[lib]}`);\n",
              "          s.src = paths[lib];\n",
              "        });\n",
              "    }\n",
              "\n",
              "    function showError(err) {\n",
              "      outputDiv.innerHTML = `<div class=\"error\" style=\"color:red;\">${err}</div>`;\n",
              "      throw err;\n",
              "    }\n",
              "\n",
              "    function displayChart(vegaEmbed) {\n",
              "      vegaEmbed(outputDiv, spec, embedOpt)\n",
              "        .catch(err => showError(`Javascript Error: ${err.message}<br>This usually means there's a typo in your chart specification. See the javascript console for the full traceback.`));\n",
              "    }\n",
              "\n",
              "    if(typeof define === \"function\" && define.amd) {\n",
              "      requirejs.config({paths});\n",
              "      require([\"vega-embed\"], displayChart, err => showError(`Error loading script: ${err.message}`));\n",
              "    } else {\n",
              "      maybeLoadScript(\"vega\", \"5\")\n",
              "        .then(() => maybeLoadScript(\"vega-lite\", \"4.17.0\"))\n",
              "        .then(() => maybeLoadScript(\"vega-embed\", \"6\"))\n",
              "        .catch(showError)\n",
              "        .then(() => displayChart(vegaEmbed));\n",
              "    }\n",
              "  })({\"config\": {\"view\": {\"continuousWidth\": 400, \"continuousHeight\": 300}}, \"data\": {\"name\": \"data-d34bf5c074fdf6d6809f3a3ab3952e59\"}, \"mark\": {\"type\": \"area\", \"line\": {\"color\": \"#5d567c\"}}, \"encoding\": {\"x\": {\"field\": \"Year\", \"type\": \"temporal\"}, \"y\": {\"field\": \"Temperature (\\u00b0C)\", \"type\": \"quantitative\"}}, \"title\": \"Global Temperature Anomaly (1880-2020)\", \"width\": 700, \"$schema\": \"https://vega.github.io/schema/vega-lite/v4.17.0.json\", \"datasets\": {\"data-d34bf5c074fdf6d6809f3a3ab3952e59\": [{\"Temperature (\\u00b0C)\": -0.16, \"Year\": \"1899\"}, {\"Temperature (\\u00b0C)\": -0.08, \"Year\": \"1900\"}, {\"Temperature (\\u00b0C)\": -0.16, \"Year\": \"1901\"}, {\"Temperature (\\u00b0C)\": -0.26, \"Year\": \"1902\"}, {\"Temperature (\\u00b0C)\": -0.38, \"Year\": \"1903\"}, {\"Temperature (\\u00b0C)\": -0.46, \"Year\": \"1904\"}, {\"Temperature (\\u00b0C)\": -0.28, \"Year\": \"1905\"}, {\"Temperature (\\u00b0C)\": -0.21, \"Year\": \"1906\"}, {\"Temperature (\\u00b0C)\": -0.38, \"Year\": \"1907\"}, {\"Temperature (\\u00b0C)\": -0.43, \"Year\": \"1908\"}, {\"Temperature (\\u00b0C)\": -0.44, \"Year\": \"1909\"}, {\"Temperature (\\u00b0C)\": -0.4, \"Year\": \"1910\"}, {\"Temperature (\\u00b0C)\": -0.44, \"Year\": \"1911\"}, {\"Temperature (\\u00b0C)\": -0.34, \"Year\": \"1912\"}, {\"Temperature (\\u00b0C)\": -0.32, \"Year\": \"1913\"}, {\"Temperature (\\u00b0C)\": -0.14, \"Year\": \"1914\"}, {\"Temperature (\\u00b0C)\": -0.09, \"Year\": \"1915\"}, {\"Temperature (\\u00b0C)\": -0.32, \"Year\": \"1916\"}, {\"Temperature (\\u00b0C)\": -0.4, \"Year\": \"1917\"}, {\"Temperature (\\u00b0C)\": -0.3, \"Year\": \"1918\"}, {\"Temperature (\\u00b0C)\": -0.25, \"Year\": \"1919\"}, {\"Temperature (\\u00b0C)\": -0.23, \"Year\": \"1920\"}, {\"Temperature (\\u00b0C)\": -0.16, \"Year\": \"1921\"}, {\"Temperature (\\u00b0C)\": -0.25, \"Year\": \"1922\"}, {\"Temperature (\\u00b0C)\": -0.25, \"Year\": \"1923\"}, {\"Temperature (\\u00b0C)\": -0.24, \"Year\": \"1924\"}, {\"Temperature (\\u00b0C)\": -0.18, \"Year\": \"1925\"}, {\"Temperature (\\u00b0C)\": -0.07, \"Year\": \"1926\"}, {\"Temperature (\\u00b0C)\": -0.17, \"Year\": \"1927\"}, {\"Temperature (\\u00b0C)\": -0.18, \"Year\": \"1928\"}, {\"Temperature (\\u00b0C)\": -0.32, \"Year\": \"1929\"}, {\"Temperature (\\u00b0C)\": -0.11, \"Year\": \"1930\"}, {\"Temperature (\\u00b0C)\": -0.06, \"Year\": \"1931\"}, {\"Temperature (\\u00b0C)\": -0.13, \"Year\": \"1932\"}, {\"Temperature (\\u00b0C)\": -0.26, \"Year\": \"1933\"}, {\"Temperature (\\u00b0C)\": -0.11, \"Year\": \"1934\"}, {\"Temperature (\\u00b0C)\": -0.16, \"Year\": \"1935\"}, {\"Temperature (\\u00b0C)\": -0.12, \"Year\": \"1936\"}, {\"Temperature (\\u00b0C)\": -0.01, \"Year\": \"1937\"}, {\"Temperature (\\u00b0C)\": -0.02, \"Year\": \"1938\"}, {\"Temperature (\\u00b0C)\": 0.01, \"Year\": \"1939\"}, {\"Temperature (\\u00b0C)\": 0.16, \"Year\": \"1940\"}, {\"Temperature (\\u00b0C)\": 0.27, \"Year\": \"1941\"}, {\"Temperature (\\u00b0C)\": 0.11, \"Year\": \"1942\"}, {\"Temperature (\\u00b0C)\": 0.11, \"Year\": \"1943\"}, {\"Temperature (\\u00b0C)\": 0.28, \"Year\": \"1944\"}, {\"Temperature (\\u00b0C)\": 0.18, \"Year\": \"1945\"}, {\"Temperature (\\u00b0C)\": -0.01, \"Year\": \"1946\"}, {\"Temperature (\\u00b0C)\": -0.04, \"Year\": \"1947\"}, {\"Temperature (\\u00b0C)\": -0.05, \"Year\": \"1948\"}, {\"Temperature (\\u00b0C)\": -0.08, \"Year\": \"1949\"}, {\"Temperature (\\u00b0C)\": -0.15, \"Year\": \"1950\"}, {\"Temperature (\\u00b0C)\": 0.0, \"Year\": \"1951\"}, {\"Temperature (\\u00b0C)\": 0.04, \"Year\": \"1952\"}, {\"Temperature (\\u00b0C)\": 0.13, \"Year\": \"1953\"}, {\"Temperature (\\u00b0C)\": -0.1, \"Year\": \"1954\"}, {\"Temperature (\\u00b0C)\": -0.13, \"Year\": \"1955\"}, {\"Temperature (\\u00b0C)\": -0.18, \"Year\": \"1956\"}, {\"Temperature (\\u00b0C)\": 0.07, \"Year\": \"1957\"}, {\"Temperature (\\u00b0C)\": 0.12, \"Year\": \"1958\"}, {\"Temperature (\\u00b0C)\": 0.08, \"Year\": \"1959\"}, {\"Temperature (\\u00b0C)\": 0.05, \"Year\": \"1960\"}, {\"Temperature (\\u00b0C)\": 0.09, \"Year\": \"1961\"}, {\"Temperature (\\u00b0C)\": 0.1, \"Year\": \"1962\"}, {\"Temperature (\\u00b0C)\": 0.12, \"Year\": \"1963\"}, {\"Temperature (\\u00b0C)\": -0.14, \"Year\": \"1964\"}, {\"Temperature (\\u00b0C)\": -0.07, \"Year\": \"1965\"}, {\"Temperature (\\u00b0C)\": -0.01, \"Year\": \"1966\"}, {\"Temperature (\\u00b0C)\": 0.0, \"Year\": \"1967\"}, {\"Temperature (\\u00b0C)\": -0.03, \"Year\": \"1968\"}, {\"Temperature (\\u00b0C)\": 0.1, \"Year\": \"1969\"}, {\"Temperature (\\u00b0C)\": 0.06, \"Year\": \"1970\"}, {\"Temperature (\\u00b0C)\": -0.07, \"Year\": \"1971\"}, {\"Temperature (\\u00b0C)\": 0.04, \"Year\": \"1972\"}, {\"Temperature (\\u00b0C)\": 0.19, \"Year\": \"1973\"}, {\"Temperature (\\u00b0C)\": -0.06, \"Year\": \"1974\"}, {\"Temperature (\\u00b0C)\": 0.01, \"Year\": \"1975\"}, {\"Temperature (\\u00b0C)\": -0.07, \"Year\": \"1976\"}, {\"Temperature (\\u00b0C)\": 0.21, \"Year\": \"1977\"}, {\"Temperature (\\u00b0C)\": 0.12, \"Year\": \"1978\"}, {\"Temperature (\\u00b0C)\": 0.23, \"Year\": \"1979\"}, {\"Temperature (\\u00b0C)\": 0.28, \"Year\": \"1980\"}, {\"Temperature (\\u00b0C)\": 0.32, \"Year\": \"1981\"}, {\"Temperature (\\u00b0C)\": 0.19, \"Year\": \"1982\"}, {\"Temperature (\\u00b0C)\": 0.36, \"Year\": \"1983\"}, {\"Temperature (\\u00b0C)\": 0.17, \"Year\": \"1984\"}, {\"Temperature (\\u00b0C)\": 0.16, \"Year\": \"1985\"}, {\"Temperature (\\u00b0C)\": 0.24, \"Year\": \"1986\"}, {\"Temperature (\\u00b0C)\": 0.38, \"Year\": \"1987\"}, {\"Temperature (\\u00b0C)\": 0.39, \"Year\": \"1988\"}, {\"Temperature (\\u00b0C)\": 0.29, \"Year\": \"1989\"}, {\"Temperature (\\u00b0C)\": 0.45, \"Year\": \"1990\"}, {\"Temperature (\\u00b0C)\": 0.39, \"Year\": \"1991\"}, {\"Temperature (\\u00b0C)\": 0.24, \"Year\": \"1992\"}, {\"Temperature (\\u00b0C)\": 0.28, \"Year\": \"1993\"}, {\"Temperature (\\u00b0C)\": 0.34, \"Year\": \"1994\"}, {\"Temperature (\\u00b0C)\": 0.47, \"Year\": \"1995\"}, {\"Temperature (\\u00b0C)\": 0.32, \"Year\": \"1996\"}, {\"Temperature (\\u00b0C)\": 0.51, \"Year\": \"1997\"}, {\"Temperature (\\u00b0C)\": 0.65, \"Year\": \"1998\"}, {\"Temperature (\\u00b0C)\": 0.44, \"Year\": \"1999\"}, {\"Temperature (\\u00b0C)\": 0.42, \"Year\": \"2000\"}, {\"Temperature (\\u00b0C)\": 0.57, \"Year\": \"2001\"}, {\"Temperature (\\u00b0C)\": 0.62, \"Year\": \"2002\"}, {\"Temperature (\\u00b0C)\": 0.64, \"Year\": \"2003\"}, {\"Temperature (\\u00b0C)\": 0.58, \"Year\": \"2004\"}, {\"Temperature (\\u00b0C)\": 0.66, \"Year\": \"2005\"}, {\"Temperature (\\u00b0C)\": 0.63, \"Year\": \"2006\"}, {\"Temperature (\\u00b0C)\": 0.62, \"Year\": \"2007\"}, {\"Temperature (\\u00b0C)\": 0.54, \"Year\": \"2008\"}, {\"Temperature (\\u00b0C)\": 0.64, \"Year\": \"2009\"}, {\"Temperature (\\u00b0C)\": 0.72, \"Year\": \"2010\"}, {\"Temperature (\\u00b0C)\": 0.57, \"Year\": \"2011\"}, {\"Temperature (\\u00b0C)\": 0.63, \"Year\": \"2012\"}, {\"Temperature (\\u00b0C)\": 0.67, \"Year\": \"2013\"}, {\"Temperature (\\u00b0C)\": 0.74, \"Year\": \"2014\"}, {\"Temperature (\\u00b0C)\": 0.93, \"Year\": \"2015\"}, {\"Temperature (\\u00b0C)\": 0.99, \"Year\": \"2016\"}, {\"Temperature (\\u00b0C)\": 0.91, \"Year\": \"2017\"}, {\"Temperature (\\u00b0C)\": 0.82, \"Year\": \"2018\"}, {\"Temperature (\\u00b0C)\": 0.95, \"Year\": \"2019\"}]}}, {\"mode\": \"vega-lite\"});\n",
              "</script>"
            ],
            "text/plain": [
              "alt.Chart(...)"
            ]
          },
          "metadata": {},
          "execution_count": 51
        }
      ]
    },
    {
      "cell_type": "markdown",
      "source": [
        "We can also change the color of the area.  Let's make it a gradient to highlight differences between increasing and decreasing trends."
      ],
      "metadata": {
        "id": "tDfMc32_HtDI"
      }
    },
    {
      "cell_type": "code",
      "source": [
        "# Add gradient scheme to area\n"
      ],
      "metadata": {
        "colab": {
          "base_uri": "https://localhost:8080/",
          "height": 385
        },
        "id": "4wSKtBzXkGNU",
        "outputId": "1143a377-5097-4e8d-df98-c756d017e977"
      },
      "execution_count": null,
      "outputs": [
        {
          "output_type": "execute_result",
          "data": {
            "text/html": [
              "\n",
              "<div id=\"altair-viz-075b197e228d4c3d80dca9e6766775f8\"></div>\n",
              "<script type=\"text/javascript\">\n",
              "  var VEGA_DEBUG = (typeof VEGA_DEBUG == \"undefined\") ? {} : VEGA_DEBUG;\n",
              "  (function(spec, embedOpt){\n",
              "    let outputDiv = document.currentScript.previousElementSibling;\n",
              "    if (outputDiv.id !== \"altair-viz-075b197e228d4c3d80dca9e6766775f8\") {\n",
              "      outputDiv = document.getElementById(\"altair-viz-075b197e228d4c3d80dca9e6766775f8\");\n",
              "    }\n",
              "    const paths = {\n",
              "      \"vega\": \"https://cdn.jsdelivr.net/npm//vega@5?noext\",\n",
              "      \"vega-lib\": \"https://cdn.jsdelivr.net/npm//vega-lib?noext\",\n",
              "      \"vega-lite\": \"https://cdn.jsdelivr.net/npm//vega-lite@4.17.0?noext\",\n",
              "      \"vega-embed\": \"https://cdn.jsdelivr.net/npm//vega-embed@6?noext\",\n",
              "    };\n",
              "\n",
              "    function maybeLoadScript(lib, version) {\n",
              "      var key = `${lib.replace(\"-\", \"\")}_version`;\n",
              "      return (VEGA_DEBUG[key] == version) ?\n",
              "        Promise.resolve(paths[lib]) :\n",
              "        new Promise(function(resolve, reject) {\n",
              "          var s = document.createElement('script');\n",
              "          document.getElementsByTagName(\"head\")[0].appendChild(s);\n",
              "          s.async = true;\n",
              "          s.onload = () => {\n",
              "            VEGA_DEBUG[key] = version;\n",
              "            return resolve(paths[lib]);\n",
              "          };\n",
              "          s.onerror = () => reject(`Error loading script: ${paths[lib]}`);\n",
              "          s.src = paths[lib];\n",
              "        });\n",
              "    }\n",
              "\n",
              "    function showError(err) {\n",
              "      outputDiv.innerHTML = `<div class=\"error\" style=\"color:red;\">${err}</div>`;\n",
              "      throw err;\n",
              "    }\n",
              "\n",
              "    function displayChart(vegaEmbed) {\n",
              "      vegaEmbed(outputDiv, spec, embedOpt)\n",
              "        .catch(err => showError(`Javascript Error: ${err.message}<br>This usually means there's a typo in your chart specification. See the javascript console for the full traceback.`));\n",
              "    }\n",
              "\n",
              "    if(typeof define === \"function\" && define.amd) {\n",
              "      requirejs.config({paths});\n",
              "      require([\"vega-embed\"], displayChart, err => showError(`Error loading script: ${err.message}`));\n",
              "    } else {\n",
              "      maybeLoadScript(\"vega\", \"5\")\n",
              "        .then(() => maybeLoadScript(\"vega-lite\", \"4.17.0\"))\n",
              "        .then(() => maybeLoadScript(\"vega-embed\", \"6\"))\n",
              "        .catch(showError)\n",
              "        .then(() => displayChart(vegaEmbed));\n",
              "    }\n",
              "  })({\"config\": {\"view\": {\"continuousWidth\": 400, \"continuousHeight\": 300}}, \"data\": {\"name\": \"data-d34bf5c074fdf6d6809f3a3ab3952e59\"}, \"mark\": {\"type\": \"area\", \"color\": {\"gradient\": \"linear\", \"stops\": [{\"color\": \"#0022c9\", \"offset\": 0}, {\"color\": \"#f00a0a\", \"offset\": 1}]}, \"line\": {\"color\": \"#5d567c\"}}, \"encoding\": {\"x\": {\"field\": \"Year\", \"type\": \"temporal\"}, \"y\": {\"field\": \"Temperature (\\u00b0C)\", \"type\": \"quantitative\"}}, \"title\": \"Global Temperature Anomaly (1880-2020)\", \"width\": 700, \"$schema\": \"https://vega.github.io/schema/vega-lite/v4.17.0.json\", \"datasets\": {\"data-d34bf5c074fdf6d6809f3a3ab3952e59\": [{\"Temperature (\\u00b0C)\": -0.16, \"Year\": \"1899\"}, {\"Temperature (\\u00b0C)\": -0.08, \"Year\": \"1900\"}, {\"Temperature (\\u00b0C)\": -0.16, \"Year\": \"1901\"}, {\"Temperature (\\u00b0C)\": -0.26, \"Year\": \"1902\"}, {\"Temperature (\\u00b0C)\": -0.38, \"Year\": \"1903\"}, {\"Temperature (\\u00b0C)\": -0.46, \"Year\": \"1904\"}, {\"Temperature (\\u00b0C)\": -0.28, \"Year\": \"1905\"}, {\"Temperature (\\u00b0C)\": -0.21, \"Year\": \"1906\"}, {\"Temperature (\\u00b0C)\": -0.38, \"Year\": \"1907\"}, {\"Temperature (\\u00b0C)\": -0.43, \"Year\": \"1908\"}, {\"Temperature (\\u00b0C)\": -0.44, \"Year\": \"1909\"}, {\"Temperature (\\u00b0C)\": -0.4, \"Year\": \"1910\"}, {\"Temperature (\\u00b0C)\": -0.44, \"Year\": \"1911\"}, {\"Temperature (\\u00b0C)\": -0.34, \"Year\": \"1912\"}, {\"Temperature (\\u00b0C)\": -0.32, \"Year\": \"1913\"}, {\"Temperature (\\u00b0C)\": -0.14, \"Year\": \"1914\"}, {\"Temperature (\\u00b0C)\": -0.09, \"Year\": \"1915\"}, {\"Temperature (\\u00b0C)\": -0.32, \"Year\": \"1916\"}, {\"Temperature (\\u00b0C)\": -0.4, \"Year\": \"1917\"}, {\"Temperature (\\u00b0C)\": -0.3, \"Year\": \"1918\"}, {\"Temperature (\\u00b0C)\": -0.25, \"Year\": \"1919\"}, {\"Temperature (\\u00b0C)\": -0.23, \"Year\": \"1920\"}, {\"Temperature (\\u00b0C)\": -0.16, \"Year\": \"1921\"}, {\"Temperature (\\u00b0C)\": -0.25, \"Year\": \"1922\"}, {\"Temperature (\\u00b0C)\": -0.25, \"Year\": \"1923\"}, {\"Temperature (\\u00b0C)\": -0.24, \"Year\": \"1924\"}, {\"Temperature (\\u00b0C)\": -0.18, \"Year\": \"1925\"}, {\"Temperature (\\u00b0C)\": -0.07, \"Year\": \"1926\"}, {\"Temperature (\\u00b0C)\": -0.17, \"Year\": \"1927\"}, {\"Temperature (\\u00b0C)\": -0.18, \"Year\": \"1928\"}, {\"Temperature (\\u00b0C)\": -0.32, \"Year\": \"1929\"}, {\"Temperature (\\u00b0C)\": -0.11, \"Year\": \"1930\"}, {\"Temperature (\\u00b0C)\": -0.06, \"Year\": \"1931\"}, {\"Temperature (\\u00b0C)\": -0.13, \"Year\": \"1932\"}, {\"Temperature (\\u00b0C)\": -0.26, \"Year\": \"1933\"}, {\"Temperature (\\u00b0C)\": -0.11, \"Year\": \"1934\"}, {\"Temperature (\\u00b0C)\": -0.16, \"Year\": \"1935\"}, {\"Temperature (\\u00b0C)\": -0.12, \"Year\": \"1936\"}, {\"Temperature (\\u00b0C)\": -0.01, \"Year\": \"1937\"}, {\"Temperature (\\u00b0C)\": -0.02, \"Year\": \"1938\"}, {\"Temperature (\\u00b0C)\": 0.01, \"Year\": \"1939\"}, {\"Temperature (\\u00b0C)\": 0.16, \"Year\": \"1940\"}, {\"Temperature (\\u00b0C)\": 0.27, \"Year\": \"1941\"}, {\"Temperature (\\u00b0C)\": 0.11, \"Year\": \"1942\"}, {\"Temperature (\\u00b0C)\": 0.11, \"Year\": \"1943\"}, {\"Temperature (\\u00b0C)\": 0.28, \"Year\": \"1944\"}, {\"Temperature (\\u00b0C)\": 0.18, \"Year\": \"1945\"}, {\"Temperature (\\u00b0C)\": -0.01, \"Year\": \"1946\"}, {\"Temperature (\\u00b0C)\": -0.04, \"Year\": \"1947\"}, {\"Temperature (\\u00b0C)\": -0.05, \"Year\": \"1948\"}, {\"Temperature (\\u00b0C)\": -0.08, \"Year\": \"1949\"}, {\"Temperature (\\u00b0C)\": -0.15, \"Year\": \"1950\"}, {\"Temperature (\\u00b0C)\": 0.0, \"Year\": \"1951\"}, {\"Temperature (\\u00b0C)\": 0.04, \"Year\": \"1952\"}, {\"Temperature (\\u00b0C)\": 0.13, \"Year\": \"1953\"}, {\"Temperature (\\u00b0C)\": -0.1, \"Year\": \"1954\"}, {\"Temperature (\\u00b0C)\": -0.13, \"Year\": \"1955\"}, {\"Temperature (\\u00b0C)\": -0.18, \"Year\": \"1956\"}, {\"Temperature (\\u00b0C)\": 0.07, \"Year\": \"1957\"}, {\"Temperature (\\u00b0C)\": 0.12, \"Year\": \"1958\"}, {\"Temperature (\\u00b0C)\": 0.08, \"Year\": \"1959\"}, {\"Temperature (\\u00b0C)\": 0.05, \"Year\": \"1960\"}, {\"Temperature (\\u00b0C)\": 0.09, \"Year\": \"1961\"}, {\"Temperature (\\u00b0C)\": 0.1, \"Year\": \"1962\"}, {\"Temperature (\\u00b0C)\": 0.12, \"Year\": \"1963\"}, {\"Temperature (\\u00b0C)\": -0.14, \"Year\": \"1964\"}, {\"Temperature (\\u00b0C)\": -0.07, \"Year\": \"1965\"}, {\"Temperature (\\u00b0C)\": -0.01, \"Year\": \"1966\"}, {\"Temperature (\\u00b0C)\": 0.0, \"Year\": \"1967\"}, {\"Temperature (\\u00b0C)\": -0.03, \"Year\": \"1968\"}, {\"Temperature (\\u00b0C)\": 0.1, \"Year\": \"1969\"}, {\"Temperature (\\u00b0C)\": 0.06, \"Year\": \"1970\"}, {\"Temperature (\\u00b0C)\": -0.07, \"Year\": \"1971\"}, {\"Temperature (\\u00b0C)\": 0.04, \"Year\": \"1972\"}, {\"Temperature (\\u00b0C)\": 0.19, \"Year\": \"1973\"}, {\"Temperature (\\u00b0C)\": -0.06, \"Year\": \"1974\"}, {\"Temperature (\\u00b0C)\": 0.01, \"Year\": \"1975\"}, {\"Temperature (\\u00b0C)\": -0.07, \"Year\": \"1976\"}, {\"Temperature (\\u00b0C)\": 0.21, \"Year\": \"1977\"}, {\"Temperature (\\u00b0C)\": 0.12, \"Year\": \"1978\"}, {\"Temperature (\\u00b0C)\": 0.23, \"Year\": \"1979\"}, {\"Temperature (\\u00b0C)\": 0.28, \"Year\": \"1980\"}, {\"Temperature (\\u00b0C)\": 0.32, \"Year\": \"1981\"}, {\"Temperature (\\u00b0C)\": 0.19, \"Year\": \"1982\"}, {\"Temperature (\\u00b0C)\": 0.36, \"Year\": \"1983\"}, {\"Temperature (\\u00b0C)\": 0.17, \"Year\": \"1984\"}, {\"Temperature (\\u00b0C)\": 0.16, \"Year\": \"1985\"}, {\"Temperature (\\u00b0C)\": 0.24, \"Year\": \"1986\"}, {\"Temperature (\\u00b0C)\": 0.38, \"Year\": \"1987\"}, {\"Temperature (\\u00b0C)\": 0.39, \"Year\": \"1988\"}, {\"Temperature (\\u00b0C)\": 0.29, \"Year\": \"1989\"}, {\"Temperature (\\u00b0C)\": 0.45, \"Year\": \"1990\"}, {\"Temperature (\\u00b0C)\": 0.39, \"Year\": \"1991\"}, {\"Temperature (\\u00b0C)\": 0.24, \"Year\": \"1992\"}, {\"Temperature (\\u00b0C)\": 0.28, \"Year\": \"1993\"}, {\"Temperature (\\u00b0C)\": 0.34, \"Year\": \"1994\"}, {\"Temperature (\\u00b0C)\": 0.47, \"Year\": \"1995\"}, {\"Temperature (\\u00b0C)\": 0.32, \"Year\": \"1996\"}, {\"Temperature (\\u00b0C)\": 0.51, \"Year\": \"1997\"}, {\"Temperature (\\u00b0C)\": 0.65, \"Year\": \"1998\"}, {\"Temperature (\\u00b0C)\": 0.44, \"Year\": \"1999\"}, {\"Temperature (\\u00b0C)\": 0.42, \"Year\": \"2000\"}, {\"Temperature (\\u00b0C)\": 0.57, \"Year\": \"2001\"}, {\"Temperature (\\u00b0C)\": 0.62, \"Year\": \"2002\"}, {\"Temperature (\\u00b0C)\": 0.64, \"Year\": \"2003\"}, {\"Temperature (\\u00b0C)\": 0.58, \"Year\": \"2004\"}, {\"Temperature (\\u00b0C)\": 0.66, \"Year\": \"2005\"}, {\"Temperature (\\u00b0C)\": 0.63, \"Year\": \"2006\"}, {\"Temperature (\\u00b0C)\": 0.62, \"Year\": \"2007\"}, {\"Temperature (\\u00b0C)\": 0.54, \"Year\": \"2008\"}, {\"Temperature (\\u00b0C)\": 0.64, \"Year\": \"2009\"}, {\"Temperature (\\u00b0C)\": 0.72, \"Year\": \"2010\"}, {\"Temperature (\\u00b0C)\": 0.57, \"Year\": \"2011\"}, {\"Temperature (\\u00b0C)\": 0.63, \"Year\": \"2012\"}, {\"Temperature (\\u00b0C)\": 0.67, \"Year\": \"2013\"}, {\"Temperature (\\u00b0C)\": 0.74, \"Year\": \"2014\"}, {\"Temperature (\\u00b0C)\": 0.93, \"Year\": \"2015\"}, {\"Temperature (\\u00b0C)\": 0.99, \"Year\": \"2016\"}, {\"Temperature (\\u00b0C)\": 0.91, \"Year\": \"2017\"}, {\"Temperature (\\u00b0C)\": 0.82, \"Year\": \"2018\"}, {\"Temperature (\\u00b0C)\": 0.95, \"Year\": \"2019\"}]}}, {\"mode\": \"vega-lite\"});\n",
              "</script>"
            ],
            "text/plain": [
              "alt.Chart(...)"
            ]
          },
          "metadata": {},
          "execution_count": 50
        }
      ]
    },
    {
      "cell_type": "code",
      "source": [
        "# Make a bar chart with conditional coloring\n"
      ],
      "metadata": {
        "colab": {
          "base_uri": "https://localhost:8080/",
          "height": 368
        },
        "id": "H5g6Tp3qN5cR",
        "outputId": "0ee608a0-effc-47ac-9248-ac7931b40243"
      },
      "execution_count": null,
      "outputs": [
        {
          "output_type": "execute_result",
          "data": {
            "text/html": [
              "\n",
              "<div id=\"altair-viz-b086d22a36284305a5a8084095e09e8e\"></div>\n",
              "<script type=\"text/javascript\">\n",
              "  var VEGA_DEBUG = (typeof VEGA_DEBUG == \"undefined\") ? {} : VEGA_DEBUG;\n",
              "  (function(spec, embedOpt){\n",
              "    let outputDiv = document.currentScript.previousElementSibling;\n",
              "    if (outputDiv.id !== \"altair-viz-b086d22a36284305a5a8084095e09e8e\") {\n",
              "      outputDiv = document.getElementById(\"altair-viz-b086d22a36284305a5a8084095e09e8e\");\n",
              "    }\n",
              "    const paths = {\n",
              "      \"vega\": \"https://cdn.jsdelivr.net/npm//vega@5?noext\",\n",
              "      \"vega-lib\": \"https://cdn.jsdelivr.net/npm//vega-lib?noext\",\n",
              "      \"vega-lite\": \"https://cdn.jsdelivr.net/npm//vega-lite@4.17.0?noext\",\n",
              "      \"vega-embed\": \"https://cdn.jsdelivr.net/npm//vega-embed@6?noext\",\n",
              "    };\n",
              "\n",
              "    function maybeLoadScript(lib, version) {\n",
              "      var key = `${lib.replace(\"-\", \"\")}_version`;\n",
              "      return (VEGA_DEBUG[key] == version) ?\n",
              "        Promise.resolve(paths[lib]) :\n",
              "        new Promise(function(resolve, reject) {\n",
              "          var s = document.createElement('script');\n",
              "          document.getElementsByTagName(\"head\")[0].appendChild(s);\n",
              "          s.async = true;\n",
              "          s.onload = () => {\n",
              "            VEGA_DEBUG[key] = version;\n",
              "            return resolve(paths[lib]);\n",
              "          };\n",
              "          s.onerror = () => reject(`Error loading script: ${paths[lib]}`);\n",
              "          s.src = paths[lib];\n",
              "        });\n",
              "    }\n",
              "\n",
              "    function showError(err) {\n",
              "      outputDiv.innerHTML = `<div class=\"error\" style=\"color:red;\">${err}</div>`;\n",
              "      throw err;\n",
              "    }\n",
              "\n",
              "    function displayChart(vegaEmbed) {\n",
              "      vegaEmbed(outputDiv, spec, embedOpt)\n",
              "        .catch(err => showError(`Javascript Error: ${err.message}<br>This usually means there's a typo in your chart specification. See the javascript console for the full traceback.`));\n",
              "    }\n",
              "\n",
              "    if(typeof define === \"function\" && define.amd) {\n",
              "      requirejs.config({paths});\n",
              "      require([\"vega-embed\"], displayChart, err => showError(`Error loading script: ${err.message}`));\n",
              "    } else {\n",
              "      maybeLoadScript(\"vega\", \"5\")\n",
              "        .then(() => maybeLoadScript(\"vega-lite\", \"4.17.0\"))\n",
              "        .then(() => maybeLoadScript(\"vega-embed\", \"6\"))\n",
              "        .catch(showError)\n",
              "        .then(() => displayChart(vegaEmbed));\n",
              "    }\n",
              "  })({\"config\": {\"view\": {\"continuousWidth\": 400, \"continuousHeight\": 300}}, \"data\": {\"name\": \"data-bd573a9b2e7d8339423dec2e49368728\"}, \"mark\": \"bar\", \"encoding\": {\"color\": {\"condition\": {\"value\": \"red\", \"test\": \"(datum.Temperature >= 0.5)\"}, \"value\": \"gray\"}, \"x\": {\"axis\": {\"title\": \"Year\"}, \"field\": \"Year\", \"type\": \"temporal\"}, \"y\": {\"axis\": {\"title\": \"Temperature change (\\u00b0C)\"}, \"field\": \"Temperature\", \"type\": \"quantitative\"}}, \"$schema\": \"https://vega.github.io/schema/vega-lite/v4.17.0.json\", \"datasets\": {\"data-bd573a9b2e7d8339423dec2e49368728\": [{\"Temperature (\\u00b0C)\": -0.16, \"Year\": \"1899\", \"Temperature\": -0.16}, {\"Temperature (\\u00b0C)\": -0.08, \"Year\": \"1900\", \"Temperature\": -0.08}, {\"Temperature (\\u00b0C)\": -0.16, \"Year\": \"1901\", \"Temperature\": -0.16}, {\"Temperature (\\u00b0C)\": -0.26, \"Year\": \"1902\", \"Temperature\": -0.26}, {\"Temperature (\\u00b0C)\": -0.38, \"Year\": \"1903\", \"Temperature\": -0.38}, {\"Temperature (\\u00b0C)\": -0.46, \"Year\": \"1904\", \"Temperature\": -0.46}, {\"Temperature (\\u00b0C)\": -0.28, \"Year\": \"1905\", \"Temperature\": -0.28}, {\"Temperature (\\u00b0C)\": -0.21, \"Year\": \"1906\", \"Temperature\": -0.21}, {\"Temperature (\\u00b0C)\": -0.38, \"Year\": \"1907\", \"Temperature\": -0.38}, {\"Temperature (\\u00b0C)\": -0.43, \"Year\": \"1908\", \"Temperature\": -0.43}, {\"Temperature (\\u00b0C)\": -0.44, \"Year\": \"1909\", \"Temperature\": -0.44}, {\"Temperature (\\u00b0C)\": -0.4, \"Year\": \"1910\", \"Temperature\": -0.4}, {\"Temperature (\\u00b0C)\": -0.44, \"Year\": \"1911\", \"Temperature\": -0.44}, {\"Temperature (\\u00b0C)\": -0.34, \"Year\": \"1912\", \"Temperature\": -0.34}, {\"Temperature (\\u00b0C)\": -0.32, \"Year\": \"1913\", \"Temperature\": -0.32}, {\"Temperature (\\u00b0C)\": -0.14, \"Year\": \"1914\", \"Temperature\": -0.14}, {\"Temperature (\\u00b0C)\": -0.09, \"Year\": \"1915\", \"Temperature\": -0.09}, {\"Temperature (\\u00b0C)\": -0.32, \"Year\": \"1916\", \"Temperature\": -0.32}, {\"Temperature (\\u00b0C)\": -0.4, \"Year\": \"1917\", \"Temperature\": -0.4}, {\"Temperature (\\u00b0C)\": -0.3, \"Year\": \"1918\", \"Temperature\": -0.3}, {\"Temperature (\\u00b0C)\": -0.25, \"Year\": \"1919\", \"Temperature\": -0.25}, {\"Temperature (\\u00b0C)\": -0.23, \"Year\": \"1920\", \"Temperature\": -0.23}, {\"Temperature (\\u00b0C)\": -0.16, \"Year\": \"1921\", \"Temperature\": -0.16}, {\"Temperature (\\u00b0C)\": -0.25, \"Year\": \"1922\", \"Temperature\": -0.25}, {\"Temperature (\\u00b0C)\": -0.25, \"Year\": \"1923\", \"Temperature\": -0.25}, {\"Temperature (\\u00b0C)\": -0.24, \"Year\": \"1924\", \"Temperature\": -0.24}, {\"Temperature (\\u00b0C)\": -0.18, \"Year\": \"1925\", \"Temperature\": -0.18}, {\"Temperature (\\u00b0C)\": -0.07, \"Year\": \"1926\", \"Temperature\": -0.07}, {\"Temperature (\\u00b0C)\": -0.17, \"Year\": \"1927\", \"Temperature\": -0.17}, {\"Temperature (\\u00b0C)\": -0.18, \"Year\": \"1928\", \"Temperature\": -0.18}, {\"Temperature (\\u00b0C)\": -0.32, \"Year\": \"1929\", \"Temperature\": -0.32}, {\"Temperature (\\u00b0C)\": -0.11, \"Year\": \"1930\", \"Temperature\": -0.11}, {\"Temperature (\\u00b0C)\": -0.06, \"Year\": \"1931\", \"Temperature\": -0.06}, {\"Temperature (\\u00b0C)\": -0.13, \"Year\": \"1932\", \"Temperature\": -0.13}, {\"Temperature (\\u00b0C)\": -0.26, \"Year\": \"1933\", \"Temperature\": -0.26}, {\"Temperature (\\u00b0C)\": -0.11, \"Year\": \"1934\", \"Temperature\": -0.11}, {\"Temperature (\\u00b0C)\": -0.16, \"Year\": \"1935\", \"Temperature\": -0.16}, {\"Temperature (\\u00b0C)\": -0.12, \"Year\": \"1936\", \"Temperature\": -0.12}, {\"Temperature (\\u00b0C)\": -0.01, \"Year\": \"1937\", \"Temperature\": -0.01}, {\"Temperature (\\u00b0C)\": -0.02, \"Year\": \"1938\", \"Temperature\": -0.02}, {\"Temperature (\\u00b0C)\": 0.01, \"Year\": \"1939\", \"Temperature\": 0.01}, {\"Temperature (\\u00b0C)\": 0.16, \"Year\": \"1940\", \"Temperature\": 0.16}, {\"Temperature (\\u00b0C)\": 0.27, \"Year\": \"1941\", \"Temperature\": 0.27}, {\"Temperature (\\u00b0C)\": 0.11, \"Year\": \"1942\", \"Temperature\": 0.11}, {\"Temperature (\\u00b0C)\": 0.11, \"Year\": \"1943\", \"Temperature\": 0.11}, {\"Temperature (\\u00b0C)\": 0.28, \"Year\": \"1944\", \"Temperature\": 0.28}, {\"Temperature (\\u00b0C)\": 0.18, \"Year\": \"1945\", \"Temperature\": 0.18}, {\"Temperature (\\u00b0C)\": -0.01, \"Year\": \"1946\", \"Temperature\": -0.01}, {\"Temperature (\\u00b0C)\": -0.04, \"Year\": \"1947\", \"Temperature\": -0.04}, {\"Temperature (\\u00b0C)\": -0.05, \"Year\": \"1948\", \"Temperature\": -0.05}, {\"Temperature (\\u00b0C)\": -0.08, \"Year\": \"1949\", \"Temperature\": -0.08}, {\"Temperature (\\u00b0C)\": -0.15, \"Year\": \"1950\", \"Temperature\": -0.15}, {\"Temperature (\\u00b0C)\": 0.0, \"Year\": \"1951\", \"Temperature\": 0.0}, {\"Temperature (\\u00b0C)\": 0.04, \"Year\": \"1952\", \"Temperature\": 0.04}, {\"Temperature (\\u00b0C)\": 0.13, \"Year\": \"1953\", \"Temperature\": 0.13}, {\"Temperature (\\u00b0C)\": -0.1, \"Year\": \"1954\", \"Temperature\": -0.1}, {\"Temperature (\\u00b0C)\": -0.13, \"Year\": \"1955\", \"Temperature\": -0.13}, {\"Temperature (\\u00b0C)\": -0.18, \"Year\": \"1956\", \"Temperature\": -0.18}, {\"Temperature (\\u00b0C)\": 0.07, \"Year\": \"1957\", \"Temperature\": 0.07}, {\"Temperature (\\u00b0C)\": 0.12, \"Year\": \"1958\", \"Temperature\": 0.12}, {\"Temperature (\\u00b0C)\": 0.08, \"Year\": \"1959\", \"Temperature\": 0.08}, {\"Temperature (\\u00b0C)\": 0.05, \"Year\": \"1960\", \"Temperature\": 0.05}, {\"Temperature (\\u00b0C)\": 0.09, \"Year\": \"1961\", \"Temperature\": 0.09}, {\"Temperature (\\u00b0C)\": 0.1, \"Year\": \"1962\", \"Temperature\": 0.1}, {\"Temperature (\\u00b0C)\": 0.12, \"Year\": \"1963\", \"Temperature\": 0.12}, {\"Temperature (\\u00b0C)\": -0.14, \"Year\": \"1964\", \"Temperature\": -0.14}, {\"Temperature (\\u00b0C)\": -0.07, \"Year\": \"1965\", \"Temperature\": -0.07}, {\"Temperature (\\u00b0C)\": -0.01, \"Year\": \"1966\", \"Temperature\": -0.01}, {\"Temperature (\\u00b0C)\": 0.0, \"Year\": \"1967\", \"Temperature\": 0.0}, {\"Temperature (\\u00b0C)\": -0.03, \"Year\": \"1968\", \"Temperature\": -0.03}, {\"Temperature (\\u00b0C)\": 0.1, \"Year\": \"1969\", \"Temperature\": 0.1}, {\"Temperature (\\u00b0C)\": 0.06, \"Year\": \"1970\", \"Temperature\": 0.06}, {\"Temperature (\\u00b0C)\": -0.07, \"Year\": \"1971\", \"Temperature\": -0.07}, {\"Temperature (\\u00b0C)\": 0.04, \"Year\": \"1972\", \"Temperature\": 0.04}, {\"Temperature (\\u00b0C)\": 0.19, \"Year\": \"1973\", \"Temperature\": 0.19}, {\"Temperature (\\u00b0C)\": -0.06, \"Year\": \"1974\", \"Temperature\": -0.06}, {\"Temperature (\\u00b0C)\": 0.01, \"Year\": \"1975\", \"Temperature\": 0.01}, {\"Temperature (\\u00b0C)\": -0.07, \"Year\": \"1976\", \"Temperature\": -0.07}, {\"Temperature (\\u00b0C)\": 0.21, \"Year\": \"1977\", \"Temperature\": 0.21}, {\"Temperature (\\u00b0C)\": 0.12, \"Year\": \"1978\", \"Temperature\": 0.12}, {\"Temperature (\\u00b0C)\": 0.23, \"Year\": \"1979\", \"Temperature\": 0.23}, {\"Temperature (\\u00b0C)\": 0.28, \"Year\": \"1980\", \"Temperature\": 0.28}, {\"Temperature (\\u00b0C)\": 0.32, \"Year\": \"1981\", \"Temperature\": 0.32}, {\"Temperature (\\u00b0C)\": 0.19, \"Year\": \"1982\", \"Temperature\": 0.19}, {\"Temperature (\\u00b0C)\": 0.36, \"Year\": \"1983\", \"Temperature\": 0.36}, {\"Temperature (\\u00b0C)\": 0.17, \"Year\": \"1984\", \"Temperature\": 0.17}, {\"Temperature (\\u00b0C)\": 0.16, \"Year\": \"1985\", \"Temperature\": 0.16}, {\"Temperature (\\u00b0C)\": 0.24, \"Year\": \"1986\", \"Temperature\": 0.24}, {\"Temperature (\\u00b0C)\": 0.38, \"Year\": \"1987\", \"Temperature\": 0.38}, {\"Temperature (\\u00b0C)\": 0.39, \"Year\": \"1988\", \"Temperature\": 0.39}, {\"Temperature (\\u00b0C)\": 0.29, \"Year\": \"1989\", \"Temperature\": 0.29}, {\"Temperature (\\u00b0C)\": 0.45, \"Year\": \"1990\", \"Temperature\": 0.45}, {\"Temperature (\\u00b0C)\": 0.39, \"Year\": \"1991\", \"Temperature\": 0.39}, {\"Temperature (\\u00b0C)\": 0.24, \"Year\": \"1992\", \"Temperature\": 0.24}, {\"Temperature (\\u00b0C)\": 0.28, \"Year\": \"1993\", \"Temperature\": 0.28}, {\"Temperature (\\u00b0C)\": 0.34, \"Year\": \"1994\", \"Temperature\": 0.34}, {\"Temperature (\\u00b0C)\": 0.47, \"Year\": \"1995\", \"Temperature\": 0.47}, {\"Temperature (\\u00b0C)\": 0.32, \"Year\": \"1996\", \"Temperature\": 0.32}, {\"Temperature (\\u00b0C)\": 0.51, \"Year\": \"1997\", \"Temperature\": 0.51}, {\"Temperature (\\u00b0C)\": 0.65, \"Year\": \"1998\", \"Temperature\": 0.65}, {\"Temperature (\\u00b0C)\": 0.44, \"Year\": \"1999\", \"Temperature\": 0.44}, {\"Temperature (\\u00b0C)\": 0.42, \"Year\": \"2000\", \"Temperature\": 0.42}, {\"Temperature (\\u00b0C)\": 0.57, \"Year\": \"2001\", \"Temperature\": 0.57}, {\"Temperature (\\u00b0C)\": 0.62, \"Year\": \"2002\", \"Temperature\": 0.62}, {\"Temperature (\\u00b0C)\": 0.64, \"Year\": \"2003\", \"Temperature\": 0.64}, {\"Temperature (\\u00b0C)\": 0.58, \"Year\": \"2004\", \"Temperature\": 0.58}, {\"Temperature (\\u00b0C)\": 0.66, \"Year\": \"2005\", \"Temperature\": 0.66}, {\"Temperature (\\u00b0C)\": 0.63, \"Year\": \"2006\", \"Temperature\": 0.63}, {\"Temperature (\\u00b0C)\": 0.62, \"Year\": \"2007\", \"Temperature\": 0.62}, {\"Temperature (\\u00b0C)\": 0.54, \"Year\": \"2008\", \"Temperature\": 0.54}, {\"Temperature (\\u00b0C)\": 0.64, \"Year\": \"2009\", \"Temperature\": 0.64}, {\"Temperature (\\u00b0C)\": 0.72, \"Year\": \"2010\", \"Temperature\": 0.72}, {\"Temperature (\\u00b0C)\": 0.57, \"Year\": \"2011\", \"Temperature\": 0.57}, {\"Temperature (\\u00b0C)\": 0.63, \"Year\": \"2012\", \"Temperature\": 0.63}, {\"Temperature (\\u00b0C)\": 0.67, \"Year\": \"2013\", \"Temperature\": 0.67}, {\"Temperature (\\u00b0C)\": 0.74, \"Year\": \"2014\", \"Temperature\": 0.74}, {\"Temperature (\\u00b0C)\": 0.93, \"Year\": \"2015\", \"Temperature\": 0.93}, {\"Temperature (\\u00b0C)\": 0.99, \"Year\": \"2016\", \"Temperature\": 0.99}, {\"Temperature (\\u00b0C)\": 0.91, \"Year\": \"2017\", \"Temperature\": 0.91}, {\"Temperature (\\u00b0C)\": 0.82, \"Year\": \"2018\", \"Temperature\": 0.82}, {\"Temperature (\\u00b0C)\": 0.95, \"Year\": \"2019\", \"Temperature\": 0.95}]}}, {\"mode\": \"vega-lite\"});\n",
              "</script>"
            ],
            "text/plain": [
              "alt.Chart(...)"
            ]
          },
          "metadata": {},
          "execution_count": 71
        }
      ]
    },
    {
      "cell_type": "markdown",
      "source": [
        "We can also change the width of our bars."
      ],
      "metadata": {
        "id": "IDgncuBlPRXe"
      }
    },
    {
      "cell_type": "code",
      "source": [
        "# We can adjust the width to spread the bars out more\n"
      ],
      "metadata": {
        "colab": {
          "base_uri": "https://localhost:8080/",
          "height": 385
        },
        "id": "d7Y3WnuIPbYD",
        "outputId": "2391ffe0-13a6-402c-98d2-3b926d9914c5"
      },
      "execution_count": null,
      "outputs": [
        {
          "output_type": "execute_result",
          "data": {
            "text/html": [
              "\n",
              "<div id=\"altair-viz-8b5c2cce3d1244158ba64cf8412616e7\"></div>\n",
              "<script type=\"text/javascript\">\n",
              "  var VEGA_DEBUG = (typeof VEGA_DEBUG == \"undefined\") ? {} : VEGA_DEBUG;\n",
              "  (function(spec, embedOpt){\n",
              "    let outputDiv = document.currentScript.previousElementSibling;\n",
              "    if (outputDiv.id !== \"altair-viz-8b5c2cce3d1244158ba64cf8412616e7\") {\n",
              "      outputDiv = document.getElementById(\"altair-viz-8b5c2cce3d1244158ba64cf8412616e7\");\n",
              "    }\n",
              "    const paths = {\n",
              "      \"vega\": \"https://cdn.jsdelivr.net/npm//vega@5?noext\",\n",
              "      \"vega-lib\": \"https://cdn.jsdelivr.net/npm//vega-lib?noext\",\n",
              "      \"vega-lite\": \"https://cdn.jsdelivr.net/npm//vega-lite@4.17.0?noext\",\n",
              "      \"vega-embed\": \"https://cdn.jsdelivr.net/npm//vega-embed@6?noext\",\n",
              "    };\n",
              "\n",
              "    function maybeLoadScript(lib, version) {\n",
              "      var key = `${lib.replace(\"-\", \"\")}_version`;\n",
              "      return (VEGA_DEBUG[key] == version) ?\n",
              "        Promise.resolve(paths[lib]) :\n",
              "        new Promise(function(resolve, reject) {\n",
              "          var s = document.createElement('script');\n",
              "          document.getElementsByTagName(\"head\")[0].appendChild(s);\n",
              "          s.async = true;\n",
              "          s.onload = () => {\n",
              "            VEGA_DEBUG[key] = version;\n",
              "            return resolve(paths[lib]);\n",
              "          };\n",
              "          s.onerror = () => reject(`Error loading script: ${paths[lib]}`);\n",
              "          s.src = paths[lib];\n",
              "        });\n",
              "    }\n",
              "\n",
              "    function showError(err) {\n",
              "      outputDiv.innerHTML = `<div class=\"error\" style=\"color:red;\">${err}</div>`;\n",
              "      throw err;\n",
              "    }\n",
              "\n",
              "    function displayChart(vegaEmbed) {\n",
              "      vegaEmbed(outputDiv, spec, embedOpt)\n",
              "        .catch(err => showError(`Javascript Error: ${err.message}<br>This usually means there's a typo in your chart specification. See the javascript console for the full traceback.`));\n",
              "    }\n",
              "\n",
              "    if(typeof define === \"function\" && define.amd) {\n",
              "      requirejs.config({paths});\n",
              "      require([\"vega-embed\"], displayChart, err => showError(`Error loading script: ${err.message}`));\n",
              "    } else {\n",
              "      maybeLoadScript(\"vega\", \"5\")\n",
              "        .then(() => maybeLoadScript(\"vega-lite\", \"4.17.0\"))\n",
              "        .then(() => maybeLoadScript(\"vega-embed\", \"6\"))\n",
              "        .catch(showError)\n",
              "        .then(() => displayChart(vegaEmbed));\n",
              "    }\n",
              "  })({\"config\": {\"view\": {\"continuousWidth\": 400, \"continuousHeight\": 300}}, \"data\": {\"name\": \"data-bd573a9b2e7d8339423dec2e49368728\"}, \"mark\": \"bar\", \"encoding\": {\"color\": {\"condition\": {\"value\": \"red\", \"test\": \"(datum.Temperature >= 0.5)\"}, \"value\": \"gray\"}, \"x\": {\"axis\": {\"title\": \"Year\"}, \"field\": \"Year\", \"type\": \"temporal\"}, \"y\": {\"axis\": {\"title\": \"Temperature change (\\u00b0C)\"}, \"field\": \"Temperature\", \"type\": \"quantitative\"}}, \"title\": \"Global Temperature Anomaly (1889-2019)\", \"width\": 800, \"$schema\": \"https://vega.github.io/schema/vega-lite/v4.17.0.json\", \"datasets\": {\"data-bd573a9b2e7d8339423dec2e49368728\": [{\"Temperature (\\u00b0C)\": -0.16, \"Year\": \"1899\", \"Temperature\": -0.16}, {\"Temperature (\\u00b0C)\": -0.08, \"Year\": \"1900\", \"Temperature\": -0.08}, {\"Temperature (\\u00b0C)\": -0.16, \"Year\": \"1901\", \"Temperature\": -0.16}, {\"Temperature (\\u00b0C)\": -0.26, \"Year\": \"1902\", \"Temperature\": -0.26}, {\"Temperature (\\u00b0C)\": -0.38, \"Year\": \"1903\", \"Temperature\": -0.38}, {\"Temperature (\\u00b0C)\": -0.46, \"Year\": \"1904\", \"Temperature\": -0.46}, {\"Temperature (\\u00b0C)\": -0.28, \"Year\": \"1905\", \"Temperature\": -0.28}, {\"Temperature (\\u00b0C)\": -0.21, \"Year\": \"1906\", \"Temperature\": -0.21}, {\"Temperature (\\u00b0C)\": -0.38, \"Year\": \"1907\", \"Temperature\": -0.38}, {\"Temperature (\\u00b0C)\": -0.43, \"Year\": \"1908\", \"Temperature\": -0.43}, {\"Temperature (\\u00b0C)\": -0.44, \"Year\": \"1909\", \"Temperature\": -0.44}, {\"Temperature (\\u00b0C)\": -0.4, \"Year\": \"1910\", \"Temperature\": -0.4}, {\"Temperature (\\u00b0C)\": -0.44, \"Year\": \"1911\", \"Temperature\": -0.44}, {\"Temperature (\\u00b0C)\": -0.34, \"Year\": \"1912\", \"Temperature\": -0.34}, {\"Temperature (\\u00b0C)\": -0.32, \"Year\": \"1913\", \"Temperature\": -0.32}, {\"Temperature (\\u00b0C)\": -0.14, \"Year\": \"1914\", \"Temperature\": -0.14}, {\"Temperature (\\u00b0C)\": -0.09, \"Year\": \"1915\", \"Temperature\": -0.09}, {\"Temperature (\\u00b0C)\": -0.32, \"Year\": \"1916\", \"Temperature\": -0.32}, {\"Temperature (\\u00b0C)\": -0.4, \"Year\": \"1917\", \"Temperature\": -0.4}, {\"Temperature (\\u00b0C)\": -0.3, \"Year\": \"1918\", \"Temperature\": -0.3}, {\"Temperature (\\u00b0C)\": -0.25, \"Year\": \"1919\", \"Temperature\": -0.25}, {\"Temperature (\\u00b0C)\": -0.23, \"Year\": \"1920\", \"Temperature\": -0.23}, {\"Temperature (\\u00b0C)\": -0.16, \"Year\": \"1921\", \"Temperature\": -0.16}, {\"Temperature (\\u00b0C)\": -0.25, \"Year\": \"1922\", \"Temperature\": -0.25}, {\"Temperature (\\u00b0C)\": -0.25, \"Year\": \"1923\", \"Temperature\": -0.25}, {\"Temperature (\\u00b0C)\": -0.24, \"Year\": \"1924\", \"Temperature\": -0.24}, {\"Temperature (\\u00b0C)\": -0.18, \"Year\": \"1925\", \"Temperature\": -0.18}, {\"Temperature (\\u00b0C)\": -0.07, \"Year\": \"1926\", \"Temperature\": -0.07}, {\"Temperature (\\u00b0C)\": -0.17, \"Year\": \"1927\", \"Temperature\": -0.17}, {\"Temperature (\\u00b0C)\": -0.18, \"Year\": \"1928\", \"Temperature\": -0.18}, {\"Temperature (\\u00b0C)\": -0.32, \"Year\": \"1929\", \"Temperature\": -0.32}, {\"Temperature (\\u00b0C)\": -0.11, \"Year\": \"1930\", \"Temperature\": -0.11}, {\"Temperature (\\u00b0C)\": -0.06, \"Year\": \"1931\", \"Temperature\": -0.06}, {\"Temperature (\\u00b0C)\": -0.13, \"Year\": \"1932\", \"Temperature\": -0.13}, {\"Temperature (\\u00b0C)\": -0.26, \"Year\": \"1933\", \"Temperature\": -0.26}, {\"Temperature (\\u00b0C)\": -0.11, \"Year\": \"1934\", \"Temperature\": -0.11}, {\"Temperature (\\u00b0C)\": -0.16, \"Year\": \"1935\", \"Temperature\": -0.16}, {\"Temperature (\\u00b0C)\": -0.12, \"Year\": \"1936\", \"Temperature\": -0.12}, {\"Temperature (\\u00b0C)\": -0.01, \"Year\": \"1937\", \"Temperature\": -0.01}, {\"Temperature (\\u00b0C)\": -0.02, \"Year\": \"1938\", \"Temperature\": -0.02}, {\"Temperature (\\u00b0C)\": 0.01, \"Year\": \"1939\", \"Temperature\": 0.01}, {\"Temperature (\\u00b0C)\": 0.16, \"Year\": \"1940\", \"Temperature\": 0.16}, {\"Temperature (\\u00b0C)\": 0.27, \"Year\": \"1941\", \"Temperature\": 0.27}, {\"Temperature (\\u00b0C)\": 0.11, \"Year\": \"1942\", \"Temperature\": 0.11}, {\"Temperature (\\u00b0C)\": 0.11, \"Year\": \"1943\", \"Temperature\": 0.11}, {\"Temperature (\\u00b0C)\": 0.28, \"Year\": \"1944\", \"Temperature\": 0.28}, {\"Temperature (\\u00b0C)\": 0.18, \"Year\": \"1945\", \"Temperature\": 0.18}, {\"Temperature (\\u00b0C)\": -0.01, \"Year\": \"1946\", \"Temperature\": -0.01}, {\"Temperature (\\u00b0C)\": -0.04, \"Year\": \"1947\", \"Temperature\": -0.04}, {\"Temperature (\\u00b0C)\": -0.05, \"Year\": \"1948\", \"Temperature\": -0.05}, {\"Temperature (\\u00b0C)\": -0.08, \"Year\": \"1949\", \"Temperature\": -0.08}, {\"Temperature (\\u00b0C)\": -0.15, \"Year\": \"1950\", \"Temperature\": -0.15}, {\"Temperature (\\u00b0C)\": 0.0, \"Year\": \"1951\", \"Temperature\": 0.0}, {\"Temperature (\\u00b0C)\": 0.04, \"Year\": \"1952\", \"Temperature\": 0.04}, {\"Temperature (\\u00b0C)\": 0.13, \"Year\": \"1953\", \"Temperature\": 0.13}, {\"Temperature (\\u00b0C)\": -0.1, \"Year\": \"1954\", \"Temperature\": -0.1}, {\"Temperature (\\u00b0C)\": -0.13, \"Year\": \"1955\", \"Temperature\": -0.13}, {\"Temperature (\\u00b0C)\": -0.18, \"Year\": \"1956\", \"Temperature\": -0.18}, {\"Temperature (\\u00b0C)\": 0.07, \"Year\": \"1957\", \"Temperature\": 0.07}, {\"Temperature (\\u00b0C)\": 0.12, \"Year\": \"1958\", \"Temperature\": 0.12}, {\"Temperature (\\u00b0C)\": 0.08, \"Year\": \"1959\", \"Temperature\": 0.08}, {\"Temperature (\\u00b0C)\": 0.05, \"Year\": \"1960\", \"Temperature\": 0.05}, {\"Temperature (\\u00b0C)\": 0.09, \"Year\": \"1961\", \"Temperature\": 0.09}, {\"Temperature (\\u00b0C)\": 0.1, \"Year\": \"1962\", \"Temperature\": 0.1}, {\"Temperature (\\u00b0C)\": 0.12, \"Year\": \"1963\", \"Temperature\": 0.12}, {\"Temperature (\\u00b0C)\": -0.14, \"Year\": \"1964\", \"Temperature\": -0.14}, {\"Temperature (\\u00b0C)\": -0.07, \"Year\": \"1965\", \"Temperature\": -0.07}, {\"Temperature (\\u00b0C)\": -0.01, \"Year\": \"1966\", \"Temperature\": -0.01}, {\"Temperature (\\u00b0C)\": 0.0, \"Year\": \"1967\", \"Temperature\": 0.0}, {\"Temperature (\\u00b0C)\": -0.03, \"Year\": \"1968\", \"Temperature\": -0.03}, {\"Temperature (\\u00b0C)\": 0.1, \"Year\": \"1969\", \"Temperature\": 0.1}, {\"Temperature (\\u00b0C)\": 0.06, \"Year\": \"1970\", \"Temperature\": 0.06}, {\"Temperature (\\u00b0C)\": -0.07, \"Year\": \"1971\", \"Temperature\": -0.07}, {\"Temperature (\\u00b0C)\": 0.04, \"Year\": \"1972\", \"Temperature\": 0.04}, {\"Temperature (\\u00b0C)\": 0.19, \"Year\": \"1973\", \"Temperature\": 0.19}, {\"Temperature (\\u00b0C)\": -0.06, \"Year\": \"1974\", \"Temperature\": -0.06}, {\"Temperature (\\u00b0C)\": 0.01, \"Year\": \"1975\", \"Temperature\": 0.01}, {\"Temperature (\\u00b0C)\": -0.07, \"Year\": \"1976\", \"Temperature\": -0.07}, {\"Temperature (\\u00b0C)\": 0.21, \"Year\": \"1977\", \"Temperature\": 0.21}, {\"Temperature (\\u00b0C)\": 0.12, \"Year\": \"1978\", \"Temperature\": 0.12}, {\"Temperature (\\u00b0C)\": 0.23, \"Year\": \"1979\", \"Temperature\": 0.23}, {\"Temperature (\\u00b0C)\": 0.28, \"Year\": \"1980\", \"Temperature\": 0.28}, {\"Temperature (\\u00b0C)\": 0.32, \"Year\": \"1981\", \"Temperature\": 0.32}, {\"Temperature (\\u00b0C)\": 0.19, \"Year\": \"1982\", \"Temperature\": 0.19}, {\"Temperature (\\u00b0C)\": 0.36, \"Year\": \"1983\", \"Temperature\": 0.36}, {\"Temperature (\\u00b0C)\": 0.17, \"Year\": \"1984\", \"Temperature\": 0.17}, {\"Temperature (\\u00b0C)\": 0.16, \"Year\": \"1985\", \"Temperature\": 0.16}, {\"Temperature (\\u00b0C)\": 0.24, \"Year\": \"1986\", \"Temperature\": 0.24}, {\"Temperature (\\u00b0C)\": 0.38, \"Year\": \"1987\", \"Temperature\": 0.38}, {\"Temperature (\\u00b0C)\": 0.39, \"Year\": \"1988\", \"Temperature\": 0.39}, {\"Temperature (\\u00b0C)\": 0.29, \"Year\": \"1989\", \"Temperature\": 0.29}, {\"Temperature (\\u00b0C)\": 0.45, \"Year\": \"1990\", \"Temperature\": 0.45}, {\"Temperature (\\u00b0C)\": 0.39, \"Year\": \"1991\", \"Temperature\": 0.39}, {\"Temperature (\\u00b0C)\": 0.24, \"Year\": \"1992\", \"Temperature\": 0.24}, {\"Temperature (\\u00b0C)\": 0.28, \"Year\": \"1993\", \"Temperature\": 0.28}, {\"Temperature (\\u00b0C)\": 0.34, \"Year\": \"1994\", \"Temperature\": 0.34}, {\"Temperature (\\u00b0C)\": 0.47, \"Year\": \"1995\", \"Temperature\": 0.47}, {\"Temperature (\\u00b0C)\": 0.32, \"Year\": \"1996\", \"Temperature\": 0.32}, {\"Temperature (\\u00b0C)\": 0.51, \"Year\": \"1997\", \"Temperature\": 0.51}, {\"Temperature (\\u00b0C)\": 0.65, \"Year\": \"1998\", \"Temperature\": 0.65}, {\"Temperature (\\u00b0C)\": 0.44, \"Year\": \"1999\", \"Temperature\": 0.44}, {\"Temperature (\\u00b0C)\": 0.42, \"Year\": \"2000\", \"Temperature\": 0.42}, {\"Temperature (\\u00b0C)\": 0.57, \"Year\": \"2001\", \"Temperature\": 0.57}, {\"Temperature (\\u00b0C)\": 0.62, \"Year\": \"2002\", \"Temperature\": 0.62}, {\"Temperature (\\u00b0C)\": 0.64, \"Year\": \"2003\", \"Temperature\": 0.64}, {\"Temperature (\\u00b0C)\": 0.58, \"Year\": \"2004\", \"Temperature\": 0.58}, {\"Temperature (\\u00b0C)\": 0.66, \"Year\": \"2005\", \"Temperature\": 0.66}, {\"Temperature (\\u00b0C)\": 0.63, \"Year\": \"2006\", \"Temperature\": 0.63}, {\"Temperature (\\u00b0C)\": 0.62, \"Year\": \"2007\", \"Temperature\": 0.62}, {\"Temperature (\\u00b0C)\": 0.54, \"Year\": \"2008\", \"Temperature\": 0.54}, {\"Temperature (\\u00b0C)\": 0.64, \"Year\": \"2009\", \"Temperature\": 0.64}, {\"Temperature (\\u00b0C)\": 0.72, \"Year\": \"2010\", \"Temperature\": 0.72}, {\"Temperature (\\u00b0C)\": 0.57, \"Year\": \"2011\", \"Temperature\": 0.57}, {\"Temperature (\\u00b0C)\": 0.63, \"Year\": \"2012\", \"Temperature\": 0.63}, {\"Temperature (\\u00b0C)\": 0.67, \"Year\": \"2013\", \"Temperature\": 0.67}, {\"Temperature (\\u00b0C)\": 0.74, \"Year\": \"2014\", \"Temperature\": 0.74}, {\"Temperature (\\u00b0C)\": 0.93, \"Year\": \"2015\", \"Temperature\": 0.93}, {\"Temperature (\\u00b0C)\": 0.99, \"Year\": \"2016\", \"Temperature\": 0.99}, {\"Temperature (\\u00b0C)\": 0.91, \"Year\": \"2017\", \"Temperature\": 0.91}, {\"Temperature (\\u00b0C)\": 0.82, \"Year\": \"2018\", \"Temperature\": 0.82}, {\"Temperature (\\u00b0C)\": 0.95, \"Year\": \"2019\", \"Temperature\": 0.95}]}}, {\"mode\": \"vega-lite\"});\n",
              "</script>"
            ],
            "text/plain": [
              "alt.Chart(...)"
            ]
          },
          "metadata": {},
          "execution_count": 85
        }
      ]
    },
    {
      "cell_type": "markdown",
      "metadata": {
        "id": "j1hToQltz2PH"
      },
      "source": [
        "# Different Ways of Displaying the Same Data"
      ]
    },
    {
      "cell_type": "markdown",
      "metadata": {
        "id": "7Doy4mx6z51R"
      },
      "source": [
        "What if we want to represent data differently?\n",
        "\n",
        "Below, we have a few different ways to represent the same data as before. Data visualizations can be very helpful, but they can also mislead the viewer and not show the data in the most accessible and intuitive way. "
      ]
    },
    {
      "cell_type": "markdown",
      "metadata": {
        "id": "9RWEp3Gh2BS5"
      },
      "source": [
        "**Scatter Plot**\n",
        "\n",
        "Scatter plots are useful if the data should be interpretted as discrete data rather than ordered continuous data."
      ]
    },
    {
      "cell_type": "code",
      "metadata": {
        "colab": {
          "base_uri": "https://localhost:8080/",
          "height": 585
        },
        "id": "kF86xAHdzjNC",
        "outputId": "0af9c173-869f-466c-f82a-80ec33b97ee2"
      },
      "source": [
        "# Create a scatter plot\n"
      ],
      "execution_count": null,
      "outputs": [
        {
          "output_type": "execute_result",
          "data": {
            "text/html": [
              "\n",
              "<div id=\"altair-viz-e800a31574ad4f7cb5329b4eeb4462a0\"></div>\n",
              "<script type=\"text/javascript\">\n",
              "  var VEGA_DEBUG = (typeof VEGA_DEBUG == \"undefined\") ? {} : VEGA_DEBUG;\n",
              "  (function(spec, embedOpt){\n",
              "    let outputDiv = document.currentScript.previousElementSibling;\n",
              "    if (outputDiv.id !== \"altair-viz-e800a31574ad4f7cb5329b4eeb4462a0\") {\n",
              "      outputDiv = document.getElementById(\"altair-viz-e800a31574ad4f7cb5329b4eeb4462a0\");\n",
              "    }\n",
              "    const paths = {\n",
              "      \"vega\": \"https://cdn.jsdelivr.net/npm//vega@5?noext\",\n",
              "      \"vega-lib\": \"https://cdn.jsdelivr.net/npm//vega-lib?noext\",\n",
              "      \"vega-lite\": \"https://cdn.jsdelivr.net/npm//vega-lite@4.17.0?noext\",\n",
              "      \"vega-embed\": \"https://cdn.jsdelivr.net/npm//vega-embed@6?noext\",\n",
              "    };\n",
              "\n",
              "    function maybeLoadScript(lib, version) {\n",
              "      var key = `${lib.replace(\"-\", \"\")}_version`;\n",
              "      return (VEGA_DEBUG[key] == version) ?\n",
              "        Promise.resolve(paths[lib]) :\n",
              "        new Promise(function(resolve, reject) {\n",
              "          var s = document.createElement('script');\n",
              "          document.getElementsByTagName(\"head\")[0].appendChild(s);\n",
              "          s.async = true;\n",
              "          s.onload = () => {\n",
              "            VEGA_DEBUG[key] = version;\n",
              "            return resolve(paths[lib]);\n",
              "          };\n",
              "          s.onerror = () => reject(`Error loading script: ${paths[lib]}`);\n",
              "          s.src = paths[lib];\n",
              "        });\n",
              "    }\n",
              "\n",
              "    function showError(err) {\n",
              "      outputDiv.innerHTML = `<div class=\"error\" style=\"color:red;\">${err}</div>`;\n",
              "      throw err;\n",
              "    }\n",
              "\n",
              "    function displayChart(vegaEmbed) {\n",
              "      vegaEmbed(outputDiv, spec, embedOpt)\n",
              "        .catch(err => showError(`Javascript Error: ${err.message}<br>This usually means there's a typo in your chart specification. See the javascript console for the full traceback.`));\n",
              "    }\n",
              "\n",
              "    if(typeof define === \"function\" && define.amd) {\n",
              "      requirejs.config({paths});\n",
              "      require([\"vega-embed\"], displayChart, err => showError(`Error loading script: ${err.message}`));\n",
              "    } else {\n",
              "      maybeLoadScript(\"vega\", \"5\")\n",
              "        .then(() => maybeLoadScript(\"vega-lite\", \"4.17.0\"))\n",
              "        .then(() => maybeLoadScript(\"vega-embed\", \"6\"))\n",
              "        .catch(showError)\n",
              "        .then(() => displayChart(vegaEmbed));\n",
              "    }\n",
              "  })({\"config\": {\"view\": {\"continuousWidth\": 400, \"continuousHeight\": 300}}, \"data\": {\"name\": \"data-d34bf5c074fdf6d6809f3a3ab3952e59\"}, \"mark\": {\"type\": \"circle\", \"size\": 60}, \"encoding\": {\"color\": {\"field\": \"Temperature (\\u00b0C)\", \"type\": \"nominal\"}, \"x\": {\"field\": \"Year\", \"type\": \"temporal\"}, \"y\": {\"field\": \"Temperature (\\u00b0C)\", \"type\": \"quantitative\"}}, \"height\": 500, \"title\": \"Global Temperature Anomaly (1889-2019)\", \"width\": 700, \"$schema\": \"https://vega.github.io/schema/vega-lite/v4.17.0.json\", \"datasets\": {\"data-d34bf5c074fdf6d6809f3a3ab3952e59\": [{\"Temperature (\\u00b0C)\": -0.16, \"Year\": \"1899\"}, {\"Temperature (\\u00b0C)\": -0.08, \"Year\": \"1900\"}, {\"Temperature (\\u00b0C)\": -0.16, \"Year\": \"1901\"}, {\"Temperature (\\u00b0C)\": -0.26, \"Year\": \"1902\"}, {\"Temperature (\\u00b0C)\": -0.38, \"Year\": \"1903\"}, {\"Temperature (\\u00b0C)\": -0.46, \"Year\": \"1904\"}, {\"Temperature (\\u00b0C)\": -0.28, \"Year\": \"1905\"}, {\"Temperature (\\u00b0C)\": -0.21, \"Year\": \"1906\"}, {\"Temperature (\\u00b0C)\": -0.38, \"Year\": \"1907\"}, {\"Temperature (\\u00b0C)\": -0.43, \"Year\": \"1908\"}, {\"Temperature (\\u00b0C)\": -0.44, \"Year\": \"1909\"}, {\"Temperature (\\u00b0C)\": -0.4, \"Year\": \"1910\"}, {\"Temperature (\\u00b0C)\": -0.44, \"Year\": \"1911\"}, {\"Temperature (\\u00b0C)\": -0.34, \"Year\": \"1912\"}, {\"Temperature (\\u00b0C)\": -0.32, \"Year\": \"1913\"}, {\"Temperature (\\u00b0C)\": -0.14, \"Year\": \"1914\"}, {\"Temperature (\\u00b0C)\": -0.09, \"Year\": \"1915\"}, {\"Temperature (\\u00b0C)\": -0.32, \"Year\": \"1916\"}, {\"Temperature (\\u00b0C)\": -0.4, \"Year\": \"1917\"}, {\"Temperature (\\u00b0C)\": -0.3, \"Year\": \"1918\"}, {\"Temperature (\\u00b0C)\": -0.25, \"Year\": \"1919\"}, {\"Temperature (\\u00b0C)\": -0.23, \"Year\": \"1920\"}, {\"Temperature (\\u00b0C)\": -0.16, \"Year\": \"1921\"}, {\"Temperature (\\u00b0C)\": -0.25, \"Year\": \"1922\"}, {\"Temperature (\\u00b0C)\": -0.25, \"Year\": \"1923\"}, {\"Temperature (\\u00b0C)\": -0.24, \"Year\": \"1924\"}, {\"Temperature (\\u00b0C)\": -0.18, \"Year\": \"1925\"}, {\"Temperature (\\u00b0C)\": -0.07, \"Year\": \"1926\"}, {\"Temperature (\\u00b0C)\": -0.17, \"Year\": \"1927\"}, {\"Temperature (\\u00b0C)\": -0.18, \"Year\": \"1928\"}, {\"Temperature (\\u00b0C)\": -0.32, \"Year\": \"1929\"}, {\"Temperature (\\u00b0C)\": -0.11, \"Year\": \"1930\"}, {\"Temperature (\\u00b0C)\": -0.06, \"Year\": \"1931\"}, {\"Temperature (\\u00b0C)\": -0.13, \"Year\": \"1932\"}, {\"Temperature (\\u00b0C)\": -0.26, \"Year\": \"1933\"}, {\"Temperature (\\u00b0C)\": -0.11, \"Year\": \"1934\"}, {\"Temperature (\\u00b0C)\": -0.16, \"Year\": \"1935\"}, {\"Temperature (\\u00b0C)\": -0.12, \"Year\": \"1936\"}, {\"Temperature (\\u00b0C)\": -0.01, \"Year\": \"1937\"}, {\"Temperature (\\u00b0C)\": -0.02, \"Year\": \"1938\"}, {\"Temperature (\\u00b0C)\": 0.01, \"Year\": \"1939\"}, {\"Temperature (\\u00b0C)\": 0.16, \"Year\": \"1940\"}, {\"Temperature (\\u00b0C)\": 0.27, \"Year\": \"1941\"}, {\"Temperature (\\u00b0C)\": 0.11, \"Year\": \"1942\"}, {\"Temperature (\\u00b0C)\": 0.11, \"Year\": \"1943\"}, {\"Temperature (\\u00b0C)\": 0.28, \"Year\": \"1944\"}, {\"Temperature (\\u00b0C)\": 0.18, \"Year\": \"1945\"}, {\"Temperature (\\u00b0C)\": -0.01, \"Year\": \"1946\"}, {\"Temperature (\\u00b0C)\": -0.04, \"Year\": \"1947\"}, {\"Temperature (\\u00b0C)\": -0.05, \"Year\": \"1948\"}, {\"Temperature (\\u00b0C)\": -0.08, \"Year\": \"1949\"}, {\"Temperature (\\u00b0C)\": -0.15, \"Year\": \"1950\"}, {\"Temperature (\\u00b0C)\": 0.0, \"Year\": \"1951\"}, {\"Temperature (\\u00b0C)\": 0.04, \"Year\": \"1952\"}, {\"Temperature (\\u00b0C)\": 0.13, \"Year\": \"1953\"}, {\"Temperature (\\u00b0C)\": -0.1, \"Year\": \"1954\"}, {\"Temperature (\\u00b0C)\": -0.13, \"Year\": \"1955\"}, {\"Temperature (\\u00b0C)\": -0.18, \"Year\": \"1956\"}, {\"Temperature (\\u00b0C)\": 0.07, \"Year\": \"1957\"}, {\"Temperature (\\u00b0C)\": 0.12, \"Year\": \"1958\"}, {\"Temperature (\\u00b0C)\": 0.08, \"Year\": \"1959\"}, {\"Temperature (\\u00b0C)\": 0.05, \"Year\": \"1960\"}, {\"Temperature (\\u00b0C)\": 0.09, \"Year\": \"1961\"}, {\"Temperature (\\u00b0C)\": 0.1, \"Year\": \"1962\"}, {\"Temperature (\\u00b0C)\": 0.12, \"Year\": \"1963\"}, {\"Temperature (\\u00b0C)\": -0.14, \"Year\": \"1964\"}, {\"Temperature (\\u00b0C)\": -0.07, \"Year\": \"1965\"}, {\"Temperature (\\u00b0C)\": -0.01, \"Year\": \"1966\"}, {\"Temperature (\\u00b0C)\": 0.0, \"Year\": \"1967\"}, {\"Temperature (\\u00b0C)\": -0.03, \"Year\": \"1968\"}, {\"Temperature (\\u00b0C)\": 0.1, \"Year\": \"1969\"}, {\"Temperature (\\u00b0C)\": 0.06, \"Year\": \"1970\"}, {\"Temperature (\\u00b0C)\": -0.07, \"Year\": \"1971\"}, {\"Temperature (\\u00b0C)\": 0.04, \"Year\": \"1972\"}, {\"Temperature (\\u00b0C)\": 0.19, \"Year\": \"1973\"}, {\"Temperature (\\u00b0C)\": -0.06, \"Year\": \"1974\"}, {\"Temperature (\\u00b0C)\": 0.01, \"Year\": \"1975\"}, {\"Temperature (\\u00b0C)\": -0.07, \"Year\": \"1976\"}, {\"Temperature (\\u00b0C)\": 0.21, \"Year\": \"1977\"}, {\"Temperature (\\u00b0C)\": 0.12, \"Year\": \"1978\"}, {\"Temperature (\\u00b0C)\": 0.23, \"Year\": \"1979\"}, {\"Temperature (\\u00b0C)\": 0.28, \"Year\": \"1980\"}, {\"Temperature (\\u00b0C)\": 0.32, \"Year\": \"1981\"}, {\"Temperature (\\u00b0C)\": 0.19, \"Year\": \"1982\"}, {\"Temperature (\\u00b0C)\": 0.36, \"Year\": \"1983\"}, {\"Temperature (\\u00b0C)\": 0.17, \"Year\": \"1984\"}, {\"Temperature (\\u00b0C)\": 0.16, \"Year\": \"1985\"}, {\"Temperature (\\u00b0C)\": 0.24, \"Year\": \"1986\"}, {\"Temperature (\\u00b0C)\": 0.38, \"Year\": \"1987\"}, {\"Temperature (\\u00b0C)\": 0.39, \"Year\": \"1988\"}, {\"Temperature (\\u00b0C)\": 0.29, \"Year\": \"1989\"}, {\"Temperature (\\u00b0C)\": 0.45, \"Year\": \"1990\"}, {\"Temperature (\\u00b0C)\": 0.39, \"Year\": \"1991\"}, {\"Temperature (\\u00b0C)\": 0.24, \"Year\": \"1992\"}, {\"Temperature (\\u00b0C)\": 0.28, \"Year\": \"1993\"}, {\"Temperature (\\u00b0C)\": 0.34, \"Year\": \"1994\"}, {\"Temperature (\\u00b0C)\": 0.47, \"Year\": \"1995\"}, {\"Temperature (\\u00b0C)\": 0.32, \"Year\": \"1996\"}, {\"Temperature (\\u00b0C)\": 0.51, \"Year\": \"1997\"}, {\"Temperature (\\u00b0C)\": 0.65, \"Year\": \"1998\"}, {\"Temperature (\\u00b0C)\": 0.44, \"Year\": \"1999\"}, {\"Temperature (\\u00b0C)\": 0.42, \"Year\": \"2000\"}, {\"Temperature (\\u00b0C)\": 0.57, \"Year\": \"2001\"}, {\"Temperature (\\u00b0C)\": 0.62, \"Year\": \"2002\"}, {\"Temperature (\\u00b0C)\": 0.64, \"Year\": \"2003\"}, {\"Temperature (\\u00b0C)\": 0.58, \"Year\": \"2004\"}, {\"Temperature (\\u00b0C)\": 0.66, \"Year\": \"2005\"}, {\"Temperature (\\u00b0C)\": 0.63, \"Year\": \"2006\"}, {\"Temperature (\\u00b0C)\": 0.62, \"Year\": \"2007\"}, {\"Temperature (\\u00b0C)\": 0.54, \"Year\": \"2008\"}, {\"Temperature (\\u00b0C)\": 0.64, \"Year\": \"2009\"}, {\"Temperature (\\u00b0C)\": 0.72, \"Year\": \"2010\"}, {\"Temperature (\\u00b0C)\": 0.57, \"Year\": \"2011\"}, {\"Temperature (\\u00b0C)\": 0.63, \"Year\": \"2012\"}, {\"Temperature (\\u00b0C)\": 0.67, \"Year\": \"2013\"}, {\"Temperature (\\u00b0C)\": 0.74, \"Year\": \"2014\"}, {\"Temperature (\\u00b0C)\": 0.93, \"Year\": \"2015\"}, {\"Temperature (\\u00b0C)\": 0.99, \"Year\": \"2016\"}, {\"Temperature (\\u00b0C)\": 0.91, \"Year\": \"2017\"}, {\"Temperature (\\u00b0C)\": 0.82, \"Year\": \"2018\"}, {\"Temperature (\\u00b0C)\": 0.95, \"Year\": \"2019\"}]}}, {\"mode\": \"vega-lite\"});\n",
              "</script>"
            ],
            "text/plain": [
              "alt.Chart(...)"
            ]
          },
          "metadata": {},
          "execution_count": 53
        }
      ]
    },
    {
      "cell_type": "markdown",
      "metadata": {
        "id": "IuJREOhh17xq"
      },
      "source": [
        "**Bubble Plot**\n",
        "\n",
        "Bubble plots are like scatter plots, but they have an extra dimension (the size of the bubble) that represents a third piece of data."
      ]
    },
    {
      "cell_type": "code",
      "metadata": {
        "colab": {
          "base_uri": "https://localhost:8080/",
          "height": 1000
        },
        "id": "oefK1x771uQ9",
        "outputId": "884e81aa-33aa-4ded-90df-550179a6f42a"
      },
      "source": [
        "# Make a bubble plot"
      ],
      "execution_count": null,
      "outputs": [
        {
          "output_type": "execute_result",
          "data": {
            "text/html": [
              "\n",
              "<div id=\"altair-viz-2dae8c28f13641b8a9158f1446522229\"></div>\n",
              "<script type=\"text/javascript\">\n",
              "  var VEGA_DEBUG = (typeof VEGA_DEBUG == \"undefined\") ? {} : VEGA_DEBUG;\n",
              "  (function(spec, embedOpt){\n",
              "    let outputDiv = document.currentScript.previousElementSibling;\n",
              "    if (outputDiv.id !== \"altair-viz-2dae8c28f13641b8a9158f1446522229\") {\n",
              "      outputDiv = document.getElementById(\"altair-viz-2dae8c28f13641b8a9158f1446522229\");\n",
              "    }\n",
              "    const paths = {\n",
              "      \"vega\": \"https://cdn.jsdelivr.net/npm//vega@5?noext\",\n",
              "      \"vega-lib\": \"https://cdn.jsdelivr.net/npm//vega-lib?noext\",\n",
              "      \"vega-lite\": \"https://cdn.jsdelivr.net/npm//vega-lite@4.17.0?noext\",\n",
              "      \"vega-embed\": \"https://cdn.jsdelivr.net/npm//vega-embed@6?noext\",\n",
              "    };\n",
              "\n",
              "    function maybeLoadScript(lib, version) {\n",
              "      var key = `${lib.replace(\"-\", \"\")}_version`;\n",
              "      return (VEGA_DEBUG[key] == version) ?\n",
              "        Promise.resolve(paths[lib]) :\n",
              "        new Promise(function(resolve, reject) {\n",
              "          var s = document.createElement('script');\n",
              "          document.getElementsByTagName(\"head\")[0].appendChild(s);\n",
              "          s.async = true;\n",
              "          s.onload = () => {\n",
              "            VEGA_DEBUG[key] = version;\n",
              "            return resolve(paths[lib]);\n",
              "          };\n",
              "          s.onerror = () => reject(`Error loading script: ${paths[lib]}`);\n",
              "          s.src = paths[lib];\n",
              "        });\n",
              "    }\n",
              "\n",
              "    function showError(err) {\n",
              "      outputDiv.innerHTML = `<div class=\"error\" style=\"color:red;\">${err}</div>`;\n",
              "      throw err;\n",
              "    }\n",
              "\n",
              "    function displayChart(vegaEmbed) {\n",
              "      vegaEmbed(outputDiv, spec, embedOpt)\n",
              "        .catch(err => showError(`Javascript Error: ${err.message}<br>This usually means there's a typo in your chart specification. See the javascript console for the full traceback.`));\n",
              "    }\n",
              "\n",
              "    if(typeof define === \"function\" && define.amd) {\n",
              "      requirejs.config({paths});\n",
              "      require([\"vega-embed\"], displayChart, err => showError(`Error loading script: ${err.message}`));\n",
              "    } else {\n",
              "      maybeLoadScript(\"vega\", \"5\")\n",
              "        .then(() => maybeLoadScript(\"vega-lite\", \"4.17.0\"))\n",
              "        .then(() => maybeLoadScript(\"vega-embed\", \"6\"))\n",
              "        .catch(showError)\n",
              "        .then(() => displayChart(vegaEmbed));\n",
              "    }\n",
              "  })({\"config\": {\"view\": {\"continuousWidth\": 400, \"continuousHeight\": 300}}, \"data\": {\"name\": \"data-a3da84a113dac1b4c4b9763c52b85c1b\"}, \"mark\": \"circle\", \"encoding\": {\"size\": {\"field\": \"Temperature (\\u00b0C)\", \"type\": \"quantitative\"}, \"x\": {\"field\": \"Year\", \"scale\": {\"type\": \"log\"}, \"type\": \"ordinal\"}, \"y\": {\"field\": \"Temperature (\\u00b0C)\", \"scale\": {\"zero\": false}, \"type\": \"nominal\"}}, \"title\": \"Global Temperature Anomaly (1880-2020)\", \"width\": 700, \"$schema\": \"https://vega.github.io/schema/vega-lite/v4.17.0.json\", \"datasets\": {\"data-a3da84a113dac1b4c4b9763c52b85c1b\": [{\"Year\": 1880, \"Temperature (\\u00b0C)\": -0.1}, {\"Year\": 1881, \"Temperature (\\u00b0C)\": -0.07}, {\"Year\": 1882, \"Temperature (\\u00b0C)\": 0.05}, {\"Year\": 1883, \"Temperature (\\u00b0C)\": -0.31}, {\"Year\": 1884, \"Temperature (\\u00b0C)\": -0.21}, {\"Year\": 1885, \"Temperature (\\u00b0C)\": -0.37}, {\"Year\": 1886, \"Temperature (\\u00b0C)\": -0.25}, {\"Year\": 1887, \"Temperature (\\u00b0C)\": -0.49}, {\"Year\": 1888, \"Temperature (\\u00b0C)\": -0.3}, {\"Year\": 1889, \"Temperature (\\u00b0C)\": 0.01}, {\"Year\": 1890, \"Temperature (\\u00b0C)\": -0.34}, {\"Year\": 1891, \"Temperature (\\u00b0C)\": -0.46}, {\"Year\": 1892, \"Temperature (\\u00b0C)\": -0.19}, {\"Year\": 1893, \"Temperature (\\u00b0C)\": -0.68}, {\"Year\": 1894, \"Temperature (\\u00b0C)\": -0.32}, {\"Year\": 1895, \"Temperature (\\u00b0C)\": -0.41}, {\"Year\": 1896, \"Temperature (\\u00b0C)\": -0.13}, {\"Year\": 1897, \"Temperature (\\u00b0C)\": -0.12}, {\"Year\": 1898, \"Temperature (\\u00b0C)\": -0.15}, {\"Year\": 1899, \"Temperature (\\u00b0C)\": -0.23}, {\"Year\": 1900, \"Temperature (\\u00b0C)\": -0.21}, {\"Year\": 1901, \"Temperature (\\u00b0C)\": -0.12}, {\"Year\": 1902, \"Temperature (\\u00b0C)\": -0.08}, {\"Year\": 1903, \"Temperature (\\u00b0C)\": -0.16}, {\"Year\": 1904, \"Temperature (\\u00b0C)\": -0.6}, {\"Year\": 1905, \"Temperature (\\u00b0C)\": -0.49}, {\"Year\": 1906, \"Temperature (\\u00b0C)\": -0.19}, {\"Year\": 1907, \"Temperature (\\u00b0C)\": -0.43}, {\"Year\": 1908, \"Temperature (\\u00b0C)\": -0.37}, {\"Year\": 1909, \"Temperature (\\u00b0C)\": -0.52}, {\"Year\": 1910, \"Temperature (\\u00b0C)\": -0.38}, {\"Year\": 1911, \"Temperature (\\u00b0C)\": -0.56}, {\"Year\": 1912, \"Temperature (\\u00b0C)\": -0.2}, {\"Year\": 1913, \"Temperature (\\u00b0C)\": -0.38}, {\"Year\": 1914, \"Temperature (\\u00b0C)\": 0.0}, {\"Year\": 1915, \"Temperature (\\u00b0C)\": -0.07}, {\"Year\": 1916, \"Temperature (\\u00b0C)\": -0.15}, {\"Year\": 1917, \"Temperature (\\u00b0C)\": -0.55}, {\"Year\": 1918, \"Temperature (\\u00b0C)\": -0.35}, {\"Year\": 1919, \"Temperature (\\u00b0C)\": -0.18}, {\"Year\": 1920, \"Temperature (\\u00b0C)\": -0.27}, {\"Year\": 1921, \"Temperature (\\u00b0C)\": -0.13}, {\"Year\": 1922, \"Temperature (\\u00b0C)\": -0.31}, {\"Year\": 1923, \"Temperature (\\u00b0C)\": -0.33}, {\"Year\": 1924, \"Temperature (\\u00b0C)\": -0.2}, {\"Year\": 1925, \"Temperature (\\u00b0C)\": -0.39}, {\"Year\": 1926, \"Temperature (\\u00b0C)\": 0.08}, {\"Year\": 1927, \"Temperature (\\u00b0C)\": -0.21}, {\"Year\": 1928, \"Temperature (\\u00b0C)\": -0.12}, {\"Year\": 1929, \"Temperature (\\u00b0C)\": -0.53}, {\"Year\": 1930, \"Temperature (\\u00b0C)\": -0.29}, {\"Year\": 1931, \"Temperature (\\u00b0C)\": -0.12}, {\"Year\": 1932, \"Temperature (\\u00b0C)\": -0.01}, {\"Year\": 1933, \"Temperature (\\u00b0C)\": -0.3}, {\"Year\": 1934, \"Temperature (\\u00b0C)\": -0.19}, {\"Year\": 1935, \"Temperature (\\u00b0C)\": -0.06}, {\"Year\": 1936, \"Temperature (\\u00b0C)\": -0.29}, {\"Year\": 1937, \"Temperature (\\u00b0C)\": -0.08}, {\"Year\": 1938, \"Temperature (\\u00b0C)\": 0.0}, {\"Year\": 1939, \"Temperature (\\u00b0C)\": -0.1}, {\"Year\": 1940, \"Temperature (\\u00b0C)\": 0.07}, {\"Year\": 1941, \"Temperature (\\u00b0C)\": 0.31}, {\"Year\": 1942, \"Temperature (\\u00b0C)\": 0.18}, {\"Year\": 1943, \"Temperature (\\u00b0C)\": 0.04}, {\"Year\": 1944, \"Temperature (\\u00b0C)\": 0.33}, {\"Year\": 1945, \"Temperature (\\u00b0C)\": 0.11}, {\"Year\": 1946, \"Temperature (\\u00b0C)\": 0.19}, {\"Year\": 1947, \"Temperature (\\u00b0C)\": -0.12}, {\"Year\": 1948, \"Temperature (\\u00b0C)\": -0.02}, {\"Year\": 1949, \"Temperature (\\u00b0C)\": -0.01}, {\"Year\": 1950, \"Temperature (\\u00b0C)\": -0.26}, {\"Year\": 1951, \"Temperature (\\u00b0C)\": -0.34}, {\"Year\": 1952, \"Temperature (\\u00b0C)\": 0.12}, {\"Year\": 1953, \"Temperature (\\u00b0C)\": 0.13}, {\"Year\": 1954, \"Temperature (\\u00b0C)\": -0.13}, {\"Year\": 1955, \"Temperature (\\u00b0C)\": 0.02}, {\"Year\": 1956, \"Temperature (\\u00b0C)\": -0.19}, {\"Year\": 1957, \"Temperature (\\u00b0C)\": -0.08}, {\"Year\": 1958, \"Temperature (\\u00b0C)\": 0.27}, {\"Year\": 1959, \"Temperature (\\u00b0C)\": 0.12}, {\"Year\": 1960, \"Temperature (\\u00b0C)\": 0.12}, {\"Year\": 1961, \"Temperature (\\u00b0C)\": 0.17}, {\"Year\": 1962, \"Temperature (\\u00b0C)\": 0.15}, {\"Year\": 1963, \"Temperature (\\u00b0C)\": 0.16}, {\"Year\": 1964, \"Temperature (\\u00b0C)\": -0.02}, {\"Year\": 1965, \"Temperature (\\u00b0C)\": -0.13}, {\"Year\": 1966, \"Temperature (\\u00b0C)\": -0.04}, {\"Year\": 1967, \"Temperature (\\u00b0C)\": -0.14}, {\"Year\": 1968, \"Temperature (\\u00b0C)\": -0.16}, {\"Year\": 1969, \"Temperature (\\u00b0C)\": -0.09}, {\"Year\": 1970, \"Temperature (\\u00b0C)\": 0.19}, {\"Year\": 1971, \"Temperature (\\u00b0C)\": -0.09}, {\"Year\": 1972, \"Temperature (\\u00b0C)\": -0.2}, {\"Year\": 1973, \"Temperature (\\u00b0C)\": 0.34}, {\"Year\": 1974, \"Temperature (\\u00b0C)\": -0.22}, {\"Year\": 1975, \"Temperature (\\u00b0C)\": 0.08}, {\"Year\": 1976, \"Temperature (\\u00b0C)\": -0.07}, {\"Year\": 1977, \"Temperature (\\u00b0C)\": 0.19}, {\"Year\": 1978, \"Temperature (\\u00b0C)\": 0.16}, {\"Year\": 1979, \"Temperature (\\u00b0C)\": 0.1}, {\"Year\": 1980, \"Temperature (\\u00b0C)\": 0.36}, {\"Year\": 1981, \"Temperature (\\u00b0C)\": 0.46}, {\"Year\": 1982, \"Temperature (\\u00b0C)\": 0.17}, {\"Year\": 1983, \"Temperature (\\u00b0C)\": 0.51}, {\"Year\": 1984, \"Temperature (\\u00b0C)\": 0.24}, {\"Year\": 1985, \"Temperature (\\u00b0C)\": 0.14}, {\"Year\": 1986, \"Temperature (\\u00b0C)\": 0.31}, {\"Year\": 1987, \"Temperature (\\u00b0C)\": 0.41}, {\"Year\": 1988, \"Temperature (\\u00b0C)\": 0.5}, {\"Year\": 1989, \"Temperature (\\u00b0C)\": 0.24}, {\"Year\": 1990, \"Temperature (\\u00b0C)\": 0.38}, {\"Year\": 1991, \"Temperature (\\u00b0C)\": 0.44}, {\"Year\": 1992, \"Temperature (\\u00b0C)\": 0.45}, {\"Year\": 1993, \"Temperature (\\u00b0C)\": 0.37}, {\"Year\": 1994, \"Temperature (\\u00b0C)\": 0.17}, {\"Year\": 1995, \"Temperature (\\u00b0C)\": 0.65}, {\"Year\": 1996, \"Temperature (\\u00b0C)\": 0.36}, {\"Year\": 1997, \"Temperature (\\u00b0C)\": 0.39}, {\"Year\": 1998, \"Temperature (\\u00b0C)\": 0.74}, {\"Year\": 1999, \"Temperature (\\u00b0C)\": 0.6}, {\"Year\": 2000, \"Temperature (\\u00b0C)\": 0.45}, {\"Year\": 2001, \"Temperature (\\u00b0C)\": 0.44}, {\"Year\": 2002, \"Temperature (\\u00b0C)\": 0.75}, {\"Year\": 2003, \"Temperature (\\u00b0C)\": 0.65}, {\"Year\": 2004, \"Temperature (\\u00b0C)\": 0.67}, {\"Year\": 2005, \"Temperature (\\u00b0C)\": 0.6}, {\"Year\": 2006, \"Temperature (\\u00b0C)\": 0.6}, {\"Year\": 2007, \"Temperature (\\u00b0C)\": 0.8}, {\"Year\": 2008, \"Temperature (\\u00b0C)\": 0.32}, {\"Year\": 2009, \"Temperature (\\u00b0C)\": 0.58}, {\"Year\": 2010, \"Temperature (\\u00b0C)\": 0.77}, {\"Year\": 2011, \"Temperature (\\u00b0C)\": 0.46}, {\"Year\": 2012, \"Temperature (\\u00b0C)\": 0.45}, {\"Year\": 2013, \"Temperature (\\u00b0C)\": 0.64}, {\"Year\": 2014, \"Temperature (\\u00b0C)\": 0.59}, {\"Year\": 2015, \"Temperature (\\u00b0C)\": 0.85}, {\"Year\": 2016, \"Temperature (\\u00b0C)\": 1.19}, {\"Year\": 2017, \"Temperature (\\u00b0C)\": 1.0}, {\"Year\": 2018, \"Temperature (\\u00b0C)\": 0.76}, {\"Year\": 2019, \"Temperature (\\u00b0C)\": 0.89}]}}, {\"mode\": \"vega-lite\"});\n",
              "</script>"
            ],
            "text/plain": [
              "alt.Chart(...)"
            ]
          },
          "metadata": {},
          "execution_count": 21
        }
      ]
    },
    {
      "cell_type": "markdown",
      "source": [
        "#Activity:"
      ],
      "metadata": {
        "id": "1k63knl_vmak"
      }
    },
    {
      "cell_type": "markdown",
      "source": [
        "Get into groups and take 15 minutes to create 2 graphs. One of them should illustrate global warming and one should be misleading.\n",
        "\n",
        "Examples of other types of graphs in Altair: https://altair-viz.github.io/gallery/index.html \\\\\n",
        "Documentation for encoding adjustments: https://altair-viz.github.io/user_guide/encoding.html"
      ],
      "metadata": {
        "id": "gSZQmTuAwTnR"
      }
    }
  ]
}